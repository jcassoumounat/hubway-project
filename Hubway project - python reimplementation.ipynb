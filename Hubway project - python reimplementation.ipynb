{
 "cells": [
  {
   "cell_type": "markdown",
   "metadata": {},
   "source": [
    "# Hubway project - python\n",
    "To better familiarize myself with Lasso in python, I reimplemented the core features.\n",
    "### Import libraries"
   ]
  },
  {
   "cell_type": "code",
   "execution_count": 1,
   "metadata": {
    "collapsed": true
   },
   "outputs": [],
   "source": [
    "import pandas as pd\n",
    "from sklearn.linear_model import LassoCV\n",
    "%matplotlib inline\n",
    "import numpy as np\n",
    "import matplotlib.pyplot as plt"
   ]
  },
  {
   "cell_type": "markdown",
   "metadata": {},
   "source": [
    "### Load trip data, and parse the date"
   ]
  },
  {
   "cell_type": "code",
   "execution_count": 2,
   "metadata": {
    "collapsed": false
   },
   "outputs": [
    {
     "data": {
      "text/html": [
       "<div>\n",
       "<table border=\"1\" class=\"dataframe\">\n",
       "  <thead>\n",
       "    <tr style=\"text-align: right;\">\n",
       "      <th></th>\n",
       "      <th>hubway_id</th>\n",
       "      <th>status</th>\n",
       "      <th>duration</th>\n",
       "      <th>start_date</th>\n",
       "      <th>strt_statn</th>\n",
       "      <th>end_date</th>\n",
       "      <th>end_statn</th>\n",
       "      <th>bike_nr</th>\n",
       "      <th>subsc_type</th>\n",
       "      <th>zip_code</th>\n",
       "      <th>birth_date</th>\n",
       "      <th>gender</th>\n",
       "    </tr>\n",
       "    <tr>\n",
       "      <th>seq_id</th>\n",
       "      <th></th>\n",
       "      <th></th>\n",
       "      <th></th>\n",
       "      <th></th>\n",
       "      <th></th>\n",
       "      <th></th>\n",
       "      <th></th>\n",
       "      <th></th>\n",
       "      <th></th>\n",
       "      <th></th>\n",
       "      <th></th>\n",
       "      <th></th>\n",
       "    </tr>\n",
       "  </thead>\n",
       "  <tbody>\n",
       "    <tr>\n",
       "      <th>1</th>\n",
       "      <td>8</td>\n",
       "      <td>Closed</td>\n",
       "      <td>9</td>\n",
       "      <td>2011-07-28 10:12:00</td>\n",
       "      <td>23</td>\n",
       "      <td>7/28/2011 10:12:00</td>\n",
       "      <td>23</td>\n",
       "      <td>B00468</td>\n",
       "      <td>Registered</td>\n",
       "      <td>'97217</td>\n",
       "      <td>1976</td>\n",
       "      <td>Male</td>\n",
       "    </tr>\n",
       "    <tr>\n",
       "      <th>2</th>\n",
       "      <td>9</td>\n",
       "      <td>Closed</td>\n",
       "      <td>220</td>\n",
       "      <td>2011-07-28 10:21:00</td>\n",
       "      <td>23</td>\n",
       "      <td>7/28/2011 10:25:00</td>\n",
       "      <td>23</td>\n",
       "      <td>B00554</td>\n",
       "      <td>Registered</td>\n",
       "      <td>'02215</td>\n",
       "      <td>1966</td>\n",
       "      <td>Male</td>\n",
       "    </tr>\n",
       "  </tbody>\n",
       "</table>\n",
       "</div>"
      ],
      "text/plain": [
       "        hubway_id  status  duration          start_date  strt_statn  \\\n",
       "seq_id                                                                \n",
       "1               8  Closed         9 2011-07-28 10:12:00          23   \n",
       "2               9  Closed       220 2011-07-28 10:21:00          23   \n",
       "\n",
       "                  end_date  end_statn bike_nr  subsc_type zip_code  \\\n",
       "seq_id                                                               \n",
       "1       7/28/2011 10:12:00         23  B00468  Registered   '97217   \n",
       "2       7/28/2011 10:25:00         23  B00554  Registered   '02215   \n",
       "\n",
       "        birth_date gender  \n",
       "seq_id                     \n",
       "1             1976   Male  \n",
       "2             1966   Male  "
      ]
     },
     "execution_count": 2,
     "metadata": {},
     "output_type": "execute_result"
    }
   ],
   "source": [
    "trips_df = pd.read_csv('hubway_trips.csv', parse_dates=['start_date'])\n",
    "trips_df.set_index('seq_id', inplace=True)\n",
    "trips_df.head(2)"
   ]
  },
  {
   "cell_type": "code",
   "execution_count": 3,
   "metadata": {
    "collapsed": false
   },
   "outputs": [],
   "source": [
    "parsed_dates = pd.to_datetime(trips_df['start_date'], format = '%m/%d/%Y %H:%M:%S')\n",
    "parsed_dates = parsed_dates.apply(lambda x: x.replace(minute=0))"
   ]
  },
  {
   "cell_type": "code",
   "execution_count": 4,
   "metadata": {
    "collapsed": false
   },
   "outputs": [
    {
     "data": {
      "text/html": [
       "<div>\n",
       "<table border=\"1\" class=\"dataframe\">\n",
       "  <thead>\n",
       "    <tr style=\"text-align: right;\">\n",
       "      <th></th>\n",
       "      <th>hubway_id</th>\n",
       "      <th>status</th>\n",
       "      <th>duration</th>\n",
       "      <th>start_date</th>\n",
       "      <th>strt_statn</th>\n",
       "      <th>end_date</th>\n",
       "      <th>end_statn</th>\n",
       "      <th>bike_nr</th>\n",
       "      <th>subsc_type</th>\n",
       "      <th>zip_code</th>\n",
       "      <th>birth_date</th>\n",
       "      <th>gender</th>\n",
       "    </tr>\n",
       "    <tr>\n",
       "      <th>seq_id</th>\n",
       "      <th></th>\n",
       "      <th></th>\n",
       "      <th></th>\n",
       "      <th></th>\n",
       "      <th></th>\n",
       "      <th></th>\n",
       "      <th></th>\n",
       "      <th></th>\n",
       "      <th></th>\n",
       "      <th></th>\n",
       "      <th></th>\n",
       "      <th></th>\n",
       "    </tr>\n",
       "  </thead>\n",
       "  <tbody>\n",
       "    <tr>\n",
       "      <th>1</th>\n",
       "      <td>8</td>\n",
       "      <td>Closed</td>\n",
       "      <td>9</td>\n",
       "      <td>2011-07-28 10:00:00</td>\n",
       "      <td>23</td>\n",
       "      <td>7/28/2011 10:12:00</td>\n",
       "      <td>23</td>\n",
       "      <td>B00468</td>\n",
       "      <td>Registered</td>\n",
       "      <td>'97217</td>\n",
       "      <td>1976</td>\n",
       "      <td>Male</td>\n",
       "    </tr>\n",
       "    <tr>\n",
       "      <th>2</th>\n",
       "      <td>9</td>\n",
       "      <td>Closed</td>\n",
       "      <td>220</td>\n",
       "      <td>2011-07-28 10:00:00</td>\n",
       "      <td>23</td>\n",
       "      <td>7/28/2011 10:25:00</td>\n",
       "      <td>23</td>\n",
       "      <td>B00554</td>\n",
       "      <td>Registered</td>\n",
       "      <td>'02215</td>\n",
       "      <td>1966</td>\n",
       "      <td>Male</td>\n",
       "    </tr>\n",
       "  </tbody>\n",
       "</table>\n",
       "</div>"
      ],
      "text/plain": [
       "        hubway_id  status  duration          start_date  strt_statn  \\\n",
       "seq_id                                                                \n",
       "1               8  Closed         9 2011-07-28 10:00:00          23   \n",
       "2               9  Closed       220 2011-07-28 10:00:00          23   \n",
       "\n",
       "                  end_date  end_statn bike_nr  subsc_type zip_code  \\\n",
       "seq_id                                                               \n",
       "1       7/28/2011 10:12:00         23  B00468  Registered   '97217   \n",
       "2       7/28/2011 10:25:00         23  B00554  Registered   '02215   \n",
       "\n",
       "        birth_date gender  \n",
       "seq_id                     \n",
       "1             1976   Male  \n",
       "2             1966   Male  "
      ]
     },
     "execution_count": 4,
     "metadata": {},
     "output_type": "execute_result"
    }
   ],
   "source": [
    "trips_df.start_date = parsed_dates\n",
    "trips_df.head(2)"
   ]
  },
  {
   "cell_type": "code",
   "execution_count": 5,
   "metadata": {
    "collapsed": false
   },
   "outputs": [
    {
     "data": {
      "text/plain": [
       "date_time\n",
       "2011-07-28 10:00:00     8\n",
       "2011-07-28 11:00:00     4\n",
       "2011-07-28 12:00:00    66\n",
       "Name: trip_counts, dtype: int64"
      ]
     },
     "execution_count": 5,
     "metadata": {},
     "output_type": "execute_result"
    }
   ],
   "source": [
    "group_trips_df= trips_df.groupby('start_date')['status'].count()\n",
    "group_trips_df.index.name = 'date_time'\n",
    "group_trips_df.name = 'trip_counts'\n",
    "group_trips_df.head(3)"
   ]
  },
  {
   "cell_type": "markdown",
   "metadata": {},
   "source": [
    "### Load the weather data, and merge the dataframes"
   ]
  },
  {
   "cell_type": "code",
   "execution_count": 6,
   "metadata": {
    "collapsed": false
   },
   "outputs": [
    {
     "data": {
      "text/html": [
       "<div>\n",
       "<table border=\"1\" class=\"dataframe\">\n",
       "  <thead>\n",
       "    <tr style=\"text-align: right;\">\n",
       "      <th></th>\n",
       "      <th>Unnamed: 0</th>\n",
       "      <th>temp</th>\n",
       "      <th>dew_pt</th>\n",
       "      <th>humidity</th>\n",
       "      <th>pressure</th>\n",
       "      <th>visibility</th>\n",
       "      <th>wind_dir</th>\n",
       "      <th>wind_speed</th>\n",
       "      <th>gust_speed</th>\n",
       "      <th>precipitation</th>\n",
       "      <th>events</th>\n",
       "      <th>conditions</th>\n",
       "      <th>wind_dir_deg</th>\n",
       "    </tr>\n",
       "    <tr>\n",
       "      <th>date_time</th>\n",
       "      <th></th>\n",
       "      <th></th>\n",
       "      <th></th>\n",
       "      <th></th>\n",
       "      <th></th>\n",
       "      <th></th>\n",
       "      <th></th>\n",
       "      <th></th>\n",
       "      <th></th>\n",
       "      <th></th>\n",
       "      <th></th>\n",
       "      <th></th>\n",
       "      <th></th>\n",
       "    </tr>\n",
       "  </thead>\n",
       "  <tbody>\n",
       "    <tr>\n",
       "      <th>2011-07-28 00:00:00</th>\n",
       "      <td>1</td>\n",
       "      <td>73</td>\n",
       "      <td>59</td>\n",
       "      <td>61</td>\n",
       "      <td>29.98</td>\n",
       "      <td>10</td>\n",
       "      <td>North</td>\n",
       "      <td>5.8</td>\n",
       "      <td>0</td>\n",
       "      <td>0</td>\n",
       "      <td>NaN</td>\n",
       "      <td>Partly Cloudy</td>\n",
       "      <td>350</td>\n",
       "    </tr>\n",
       "    <tr>\n",
       "      <th>2011-07-28 01:00:00</th>\n",
       "      <td>2</td>\n",
       "      <td>68</td>\n",
       "      <td>64</td>\n",
       "      <td>87</td>\n",
       "      <td>30.02</td>\n",
       "      <td>-9999</td>\n",
       "      <td>North</td>\n",
       "      <td>5.8</td>\n",
       "      <td>0</td>\n",
       "      <td>0</td>\n",
       "      <td>NaN</td>\n",
       "      <td>Clear</td>\n",
       "      <td>350</td>\n",
       "    </tr>\n",
       "  </tbody>\n",
       "</table>\n",
       "</div>"
      ],
      "text/plain": [
       "                     Unnamed: 0  temp  dew_pt  humidity  pressure  visibility  \\\n",
       "date_time                                                                       \n",
       "2011-07-28 00:00:00           1    73      59        61     29.98          10   \n",
       "2011-07-28 01:00:00           2    68      64        87     30.02       -9999   \n",
       "\n",
       "                    wind_dir  wind_speed  gust_speed  precipitation events  \\\n",
       "date_time                                                                    \n",
       "2011-07-28 00:00:00    North         5.8           0              0    NaN   \n",
       "2011-07-28 01:00:00    North         5.8           0              0    NaN   \n",
       "\n",
       "                        conditions  wind_dir_deg  \n",
       "date_time                                         \n",
       "2011-07-28 00:00:00  Partly Cloudy           350  \n",
       "2011-07-28 01:00:00          Clear           350  "
      ]
     },
     "execution_count": 6,
     "metadata": {},
     "output_type": "execute_result"
    }
   ],
   "source": [
    "weather_df = pd.read_csv('boston_weather.csv', parse_dates=[['date', 'time']])\n",
    "weather_df['date_time'] = weather_df['date_time'].apply(lambda x: x.replace(minute=0))\n",
    "weather_df.set_index('date_time', inplace=True)\n",
    "weather_df.head(2)"
   ]
  },
  {
   "cell_type": "code",
   "execution_count": 7,
   "metadata": {
    "collapsed": false
   },
   "outputs": [
    {
     "name": "stderr",
     "output_type": "stream",
     "text": [
      "C:\\Anaconda3\\lib\\site-packages\\ipykernel\\__main__.py:3: SettingWithCopyWarning: \n",
      "A value is trying to be set on a copy of a slice from a DataFrame\n",
      "\n",
      "See the the caveats in the documentation: http://pandas.pydata.org/pandas-docs/stable/indexing.html#indexing-view-versus-copy\n",
      "  app.launch_new_instance()\n"
     ]
    }
   ],
   "source": [
    "# clean weather data\n",
    "#weather_df['temp'][weather_df['temp'] < -100] = weather_df['temp'].mean()\n",
    "weather_df.visibility[weather_df.visibility <0] = weather_df.visibility.mean()\n",
    "weather_df =weather_df[weather_df['pressure'] >=0 ]\n",
    "weather_df =weather_df[weather_df['temp'] >=-100 ]\n",
    "weather_df =weather_df[weather_df['wind_speed'] >=-100 ]\n",
    "weather_df =weather_df[weather_df['dew_pt'] >=-100 ]"
   ]
  },
  {
   "cell_type": "code",
   "execution_count": 8,
   "metadata": {
    "collapsed": false
   },
   "outputs": [
    {
     "data": {
      "text/html": [
       "<div>\n",
       "<table border=\"1\" class=\"dataframe\">\n",
       "  <thead>\n",
       "    <tr style=\"text-align: right;\">\n",
       "      <th></th>\n",
       "      <th>Unnamed: 0</th>\n",
       "      <th>temp</th>\n",
       "      <th>dew_pt</th>\n",
       "      <th>humidity</th>\n",
       "      <th>pressure</th>\n",
       "      <th>visibility</th>\n",
       "      <th>wind_speed</th>\n",
       "      <th>gust_speed</th>\n",
       "      <th>precipitation</th>\n",
       "      <th>wind_dir_deg</th>\n",
       "    </tr>\n",
       "  </thead>\n",
       "  <tbody>\n",
       "    <tr>\n",
       "      <th>count</th>\n",
       "      <td>24666.000000</td>\n",
       "      <td>24666.000000</td>\n",
       "      <td>24666.000000</td>\n",
       "      <td>24666.000000</td>\n",
       "      <td>24666.000000</td>\n",
       "      <td>24666.000000</td>\n",
       "      <td>24666.000000</td>\n",
       "      <td>24666.000000</td>\n",
       "      <td>24666.000000</td>\n",
       "      <td>24666.000000</td>\n",
       "    </tr>\n",
       "    <tr>\n",
       "      <th>mean</th>\n",
       "      <td>12353.794170</td>\n",
       "      <td>54.454322</td>\n",
       "      <td>43.527479</td>\n",
       "      <td>69.484148</td>\n",
       "      <td>29.983016</td>\n",
       "      <td>8.489931</td>\n",
       "      <td>10.343193</td>\n",
       "      <td>5.018994</td>\n",
       "      <td>0.007974</td>\n",
       "      <td>193.501176</td>\n",
       "    </tr>\n",
       "    <tr>\n",
       "      <th>std</th>\n",
       "      <td>7126.366684</td>\n",
       "      <td>16.147978</td>\n",
       "      <td>17.987634</td>\n",
       "      <td>19.706649</td>\n",
       "      <td>0.249934</td>\n",
       "      <td>2.955285</td>\n",
       "      <td>5.653073</td>\n",
       "      <td>10.764721</td>\n",
       "      <td>0.041949</td>\n",
       "      <td>106.914191</td>\n",
       "    </tr>\n",
       "    <tr>\n",
       "      <th>min</th>\n",
       "      <td>1.000000</td>\n",
       "      <td>3.900000</td>\n",
       "      <td>-15.000000</td>\n",
       "      <td>10.000000</td>\n",
       "      <td>28.990000</td>\n",
       "      <td>0.000000</td>\n",
       "      <td>0.000000</td>\n",
       "      <td>0.000000</td>\n",
       "      <td>0.000000</td>\n",
       "      <td>0.000000</td>\n",
       "    </tr>\n",
       "    <tr>\n",
       "      <th>25%</th>\n",
       "      <td>6185.250000</td>\n",
       "      <td>41.000000</td>\n",
       "      <td>30.000000</td>\n",
       "      <td>54.000000</td>\n",
       "      <td>29.820000</td>\n",
       "      <td>9.000000</td>\n",
       "      <td>6.900000</td>\n",
       "      <td>0.000000</td>\n",
       "      <td>0.000000</td>\n",
       "      <td>100.000000</td>\n",
       "    </tr>\n",
       "    <tr>\n",
       "      <th>50%</th>\n",
       "      <td>12352.500000</td>\n",
       "      <td>55.400000</td>\n",
       "      <td>46.000000</td>\n",
       "      <td>71.000000</td>\n",
       "      <td>29.990000</td>\n",
       "      <td>10.000000</td>\n",
       "      <td>9.200000</td>\n",
       "      <td>0.000000</td>\n",
       "      <td>0.000000</td>\n",
       "      <td>210.000000</td>\n",
       "    </tr>\n",
       "    <tr>\n",
       "      <th>75%</th>\n",
       "      <td>18520.750000</td>\n",
       "      <td>66.900000</td>\n",
       "      <td>57.900000</td>\n",
       "      <td>87.000000</td>\n",
       "      <td>30.150000</td>\n",
       "      <td>10.000000</td>\n",
       "      <td>13.800000</td>\n",
       "      <td>0.000000</td>\n",
       "      <td>0.000000</td>\n",
       "      <td>290.000000</td>\n",
       "    </tr>\n",
       "    <tr>\n",
       "      <th>max</th>\n",
       "      <td>24736.000000</td>\n",
       "      <td>99.000000</td>\n",
       "      <td>75.900000</td>\n",
       "      <td>100.000000</td>\n",
       "      <td>30.800000</td>\n",
       "      <td>10.000000</td>\n",
       "      <td>44.900000</td>\n",
       "      <td>97.800000</td>\n",
       "      <td>1.320000</td>\n",
       "      <td>360.000000</td>\n",
       "    </tr>\n",
       "  </tbody>\n",
       "</table>\n",
       "</div>"
      ],
      "text/plain": [
       "         Unnamed: 0          temp        dew_pt      humidity      pressure  \\\n",
       "count  24666.000000  24666.000000  24666.000000  24666.000000  24666.000000   \n",
       "mean   12353.794170     54.454322     43.527479     69.484148     29.983016   \n",
       "std     7126.366684     16.147978     17.987634     19.706649      0.249934   \n",
       "min        1.000000      3.900000    -15.000000     10.000000     28.990000   \n",
       "25%     6185.250000     41.000000     30.000000     54.000000     29.820000   \n",
       "50%    12352.500000     55.400000     46.000000     71.000000     29.990000   \n",
       "75%    18520.750000     66.900000     57.900000     87.000000     30.150000   \n",
       "max    24736.000000     99.000000     75.900000    100.000000     30.800000   \n",
       "\n",
       "         visibility    wind_speed    gust_speed  precipitation  wind_dir_deg  \n",
       "count  24666.000000  24666.000000  24666.000000   24666.000000  24666.000000  \n",
       "mean       8.489931     10.343193      5.018994       0.007974    193.501176  \n",
       "std        2.955285      5.653073     10.764721       0.041949    106.914191  \n",
       "min        0.000000      0.000000      0.000000       0.000000      0.000000  \n",
       "25%        9.000000      6.900000      0.000000       0.000000    100.000000  \n",
       "50%       10.000000      9.200000      0.000000       0.000000    210.000000  \n",
       "75%       10.000000     13.800000      0.000000       0.000000    290.000000  \n",
       "max       10.000000     44.900000     97.800000       1.320000    360.000000  "
      ]
     },
     "execution_count": 8,
     "metadata": {},
     "output_type": "execute_result"
    }
   ],
   "source": [
    "weather_df.describe()"
   ]
  },
  {
   "cell_type": "code",
   "execution_count": 9,
   "metadata": {
    "collapsed": false
   },
   "outputs": [
    {
     "data": {
      "text/html": [
       "<div>\n",
       "<table border=\"1\" class=\"dataframe\">\n",
       "  <thead>\n",
       "    <tr style=\"text-align: right;\">\n",
       "      <th></th>\n",
       "      <th>temp</th>\n",
       "      <th>dew_pt</th>\n",
       "      <th>humidity</th>\n",
       "      <th>pressure</th>\n",
       "      <th>visibility</th>\n",
       "      <th>wind_dir</th>\n",
       "      <th>wind_speed</th>\n",
       "      <th>gust_speed</th>\n",
       "      <th>precipitation</th>\n",
       "      <th>events</th>\n",
       "      <th>conditions</th>\n",
       "      <th>wind_dir_deg</th>\n",
       "      <th>trip_counts</th>\n",
       "    </tr>\n",
       "    <tr>\n",
       "      <th>date_time</th>\n",
       "      <th></th>\n",
       "      <th></th>\n",
       "      <th></th>\n",
       "      <th></th>\n",
       "      <th></th>\n",
       "      <th></th>\n",
       "      <th></th>\n",
       "      <th></th>\n",
       "      <th></th>\n",
       "      <th></th>\n",
       "      <th></th>\n",
       "      <th></th>\n",
       "      <th></th>\n",
       "    </tr>\n",
       "  </thead>\n",
       "  <tbody>\n",
       "    <tr>\n",
       "      <th>2011-07-28 10:00:00</th>\n",
       "      <td>73.0</td>\n",
       "      <td>61</td>\n",
       "      <td>66</td>\n",
       "      <td>30.07</td>\n",
       "      <td>10</td>\n",
       "      <td>East</td>\n",
       "      <td>9.2</td>\n",
       "      <td>0</td>\n",
       "      <td>0</td>\n",
       "      <td>NaN</td>\n",
       "      <td>Scattered Clouds</td>\n",
       "      <td>100</td>\n",
       "      <td>8</td>\n",
       "    </tr>\n",
       "    <tr>\n",
       "      <th>2011-07-28 11:00:00</th>\n",
       "      <td>73.0</td>\n",
       "      <td>63</td>\n",
       "      <td>71</td>\n",
       "      <td>30.07</td>\n",
       "      <td>10</td>\n",
       "      <td>ESE</td>\n",
       "      <td>8.1</td>\n",
       "      <td>0</td>\n",
       "      <td>0</td>\n",
       "      <td>NaN</td>\n",
       "      <td>Scattered Clouds</td>\n",
       "      <td>120</td>\n",
       "      <td>4</td>\n",
       "    </tr>\n",
       "    <tr>\n",
       "      <th>2011-07-28 12:00:00</th>\n",
       "      <td>73.9</td>\n",
       "      <td>63</td>\n",
       "      <td>68</td>\n",
       "      <td>30.06</td>\n",
       "      <td>10</td>\n",
       "      <td>ESE</td>\n",
       "      <td>9.2</td>\n",
       "      <td>0</td>\n",
       "      <td>0</td>\n",
       "      <td>NaN</td>\n",
       "      <td>Scattered Clouds</td>\n",
       "      <td>120</td>\n",
       "      <td>66</td>\n",
       "    </tr>\n",
       "  </tbody>\n",
       "</table>\n",
       "</div>"
      ],
      "text/plain": [
       "                     temp  dew_pt  humidity  pressure  visibility wind_dir  \\\n",
       "date_time                                                                    \n",
       "2011-07-28 10:00:00  73.0      61        66     30.07          10     East   \n",
       "2011-07-28 11:00:00  73.0      63        71     30.07          10      ESE   \n",
       "2011-07-28 12:00:00  73.9      63        68     30.06          10      ESE   \n",
       "\n",
       "                     wind_speed  gust_speed  precipitation events  \\\n",
       "date_time                                                           \n",
       "2011-07-28 10:00:00         9.2           0              0    NaN   \n",
       "2011-07-28 11:00:00         8.1           0              0    NaN   \n",
       "2011-07-28 12:00:00         9.2           0              0    NaN   \n",
       "\n",
       "                           conditions  wind_dir_deg  trip_counts  \n",
       "date_time                                                         \n",
       "2011-07-28 10:00:00  Scattered Clouds           100            8  \n",
       "2011-07-28 11:00:00  Scattered Clouds           120            4  \n",
       "2011-07-28 12:00:00  Scattered Clouds           120           66  "
      ]
     },
     "execution_count": 9,
     "metadata": {},
     "output_type": "execute_result"
    }
   ],
   "source": [
    "merged_df = weather_df.join(pd.DataFrame(group_trips_df),how='inner')\n",
    "merged_df.drop(merged_df.columns[0], axis = 1, inplace=True)\n",
    "merged_df.head(3)"
   ]
  },
  {
   "cell_type": "code",
   "execution_count": 10,
   "metadata": {
    "collapsed": false
   },
   "outputs": [],
   "source": [
    "merged_df['day_week'] = merged_df.index.weekday\n",
    "merged_df.day_week = merged_df.day_week.astype('category')\n",
    "merged_df['hour'] = merged_df.index.hour\n",
    "merged_df.hour = merged_df.hour.astype('category')\n",
    "merged_df['sqrt_trips'] = np.sqrt(merged_df['trip_counts'])\n",
    "merged_dummy_df = pd.get_dummies(merged_df)"
   ]
  },
  {
   "cell_type": "code",
   "execution_count": 11,
   "metadata": {
    "collapsed": false
   },
   "outputs": [],
   "source": [
    "# interaction is not as clean as R, at least in scikitlearn\n",
    "interact_func = PolynomialFeatures(interaction_only=True)\n",
    "#pd.concat([merged_df, pd.DataFrame(poly.fit_transform(merged_df[['hour', 'day_week']]) )], axis = 1 )#"
   ]
  },
  {
   "cell_type": "markdown",
   "metadata": {},
   "source": [
    "### Explore features"
   ]
  },
  {
   "cell_type": "code",
   "execution_count": 12,
   "metadata": {
    "collapsed": false
   },
   "outputs": [
    {
     "data": {
      "image/png": "[encoded data removed]",
      "text/plain": [
       "<matplotlib.figure.Figure at 0x10129d30>"
      ]
     },
     "metadata": {},
     "output_type": "display_data"
    }
   ],
   "source": [
    "import scipy.stats as stats\n",
    "import pylab\n",
    "stats.probplot(merged_df['sqrt_trips'], dist='norm', plot=pylab);"
   ]
  },
  {
   "cell_type": "code",
   "execution_count": 13,
   "metadata": {
    "collapsed": false
   },
   "outputs": [
    {
     "name": "stderr",
     "output_type": "stream",
     "text": [
      "C:\\Anaconda3\\lib\\site-packages\\matplotlib\\collections.py:590: FutureWarning: elementwise comparison failed; returning scalar instead, but in the future will perform elementwise comparison\n",
      "  if self._edgecolors == str('face'):\n"
     ]
    },
    {
     "data": {
      "image/png": "[encoded data removed]",
      "text/plain": [
       "<matplotlib.figure.Figure at 0x14818470>"
      ]
     },
     "metadata": {},
     "output_type": "display_data"
    }
   ],
   "source": [
    "merged_df.plot('hour', 'sqrt_trips', kind='scatter');"
   ]
  },
  {
   "cell_type": "markdown",
   "metadata": {},
   "source": [
    "### Set up the regression and run it"
   ]
  },
  {
   "cell_type": "code",
   "execution_count": 15,
   "metadata": {
    "collapsed": false
   },
   "outputs": [
    {
     "data": {
      "text/plain": [
       "Index(['trip_counts', 'sqrt_trips'], dtype='object')"
      ]
     },
     "execution_count": 15,
     "metadata": {},
     "output_type": "execute_result"
    }
   ],
   "source": [
    "feature_col = merged_dummy_df.columns[:9].union( merged_dummy_df.columns[11:-1])\n",
    "merged_dummy_df.columns[9:11]"
   ]
  },
  {
   "cell_type": "code",
   "execution_count": 16,
   "metadata": {
    "collapsed": false
   },
   "outputs": [],
   "source": [
    "hubway_lasso = LassoCV(cv = 10, max_iter = 100, normalize=True, n_jobs = -1) # the normalization is important!"
   ]
  },
  {
   "cell_type": "code",
   "execution_count": 17,
   "metadata": {
    "collapsed": false
   },
   "outputs": [
    {
     "name": "stderr",
     "output_type": "stream",
     "text": [
      "C:\\Anaconda3\\lib\\site-packages\\sklearn\\linear_model\\coordinate_descent.py:466: ConvergenceWarning: Objective did not converge. You might want to increase the number of iterations\n",
      "  ConvergenceWarning)\n",
      "C:\\Anaconda3\\lib\\site-packages\\sklearn\\linear_model\\coordinate_descent.py:466: ConvergenceWarning: Objective did not converge. You might want to increase the number of iterations\n",
      "  ConvergenceWarning)\n"
     ]
    },
    {
     "data": {
      "text/plain": [
       "LassoCV(alphas=None, copy_X=True, cv=10, eps=0.001, fit_intercept=True,\n",
       "    max_iter=100, n_alphas=100, n_jobs=-1, normalize=True, positive=False,\n",
       "    precompute='auto', random_state=None, selection='cyclic', tol=0.0001,\n",
       "    verbose=False)"
      ]
     },
     "execution_count": 17,
     "metadata": {},
     "output_type": "execute_result"
    }
   ],
   "source": [
    "hubway_lasso.fit(merged_dummy_df[feature_col], merged_dummy_df['sqrt_trips'])"
   ]
  },
  {
   "cell_type": "markdown",
   "metadata": {},
   "source": [
    "Which features are important?"
   ]
  },
  {
   "cell_type": "code",
   "execution_count": 35,
   "metadata": {
    "collapsed": false
   },
   "outputs": [
    {
     "data": {
      "text/plain": [
       "Index(['conditions_Heavy Drizzle', 'conditions_Light Rain',\n",
       "       'conditions_Light Snow', 'conditions_Light Thunderstorms and Rain',\n",
       "       'conditions_Mist', 'conditions_Overcast', 'conditions_Partly Cloudy',\n",
       "       'conditions_Patches of Fog', 'day_week_1', 'dew_pt',\n",
       "       'events_Fog-Rain-Thunderstorm', 'events_Snow', 'gust_speed', 'hour_22',\n",
       "       'wind_dir_Calm', 'wind_dir_NNE', 'wind_dir_NNW', 'wind_dir_NW',\n",
       "       'wind_dir_North', 'wind_dir_SSW', 'wind_dir_Variable', 'wind_dir_WNW',\n",
       "       'wind_speed'],\n",
       "      dtype='object')"
      ]
     },
     "execution_count": 35,
     "metadata": {},
     "output_type": "execute_result"
    }
   ],
   "source": [
    "feature_col[np.isclose(abs(hubway_lasso.coef_), 0)]"
   ]
  },
  {
   "cell_type": "code",
   "execution_count": 36,
   "metadata": {
    "collapsed": false
   },
   "outputs": [
    {
     "data": {
      "text/plain": [
       "Index(['conditions_Fog', 'conditions_Haze', 'conditions_Mostly Cloudy',\n",
       "       'conditions_Scattered Clouds', 'day_week_2', 'day_week_3', 'day_week_4',\n",
       "       'events_Fog', 'events_Thunderstorm', 'hour_10', 'hour_11', 'hour_12',\n",
       "       'hour_13', 'hour_14', 'hour_15', 'hour_16', 'hour_17', 'hour_18',\n",
       "       'hour_19', 'hour_20', 'hour_21', 'hour_7', 'hour_8', 'hour_9',\n",
       "       'pressure', 'temp', 'visibility', 'wind_dir_ENE', 'wind_dir_ESE',\n",
       "       'wind_dir_East', 'wind_dir_SE', 'wind_dir_West'],\n",
       "      dtype='object')"
      ]
     },
     "execution_count": 36,
     "metadata": {},
     "output_type": "execute_result"
    }
   ],
   "source": [
    "feature_col[hubway_lasso.coef_ > 0]"
   ]
  },
  {
   "cell_type": "code",
   "execution_count": 21,
   "metadata": {
    "collapsed": false
   },
   "outputs": [
    {
     "data": {
      "text/plain": [
       "'conditions_Heavy Drizzle+conditions_Light Rain+conditions_Light Snow+conditions_Light Thunderstorms and Rain+conditions_Mist+conditions_Overcast+conditions_Partly Cloudy+conditions_Patches of Fog+day_week_1+dew_pt+events_Fog-Rain-Thunderstorm+events_Snow+gust_speed+hour_22+wind_dir_Calm+wind_dir_NNE+wind_dir_NNW+wind_dir_NW+wind_dir_North+wind_dir_SSW+wind_dir_Variable+wind_dir_WNW+wind_speed'"
      ]
     },
     "execution_count": 21,
     "metadata": {},
     "output_type": "execute_result"
    }
   ],
   "source": [
    "'+'.join(feature_col[np.isclose(abs(hubway_lasso.coef_), 0)])"
   ]
  },
  {
   "cell_type": "markdown",
   "metadata": {},
   "source": [
    "How good was the fit? First the R<sup>2</sup>"
   ]
  },
  {
   "cell_type": "code",
   "execution_count": 22,
   "metadata": {
    "collapsed": false
   },
   "outputs": [
    {
     "data": {
      "text/plain": [
       "0.61032794984980399"
      ]
     },
     "execution_count": 22,
     "metadata": {},
     "output_type": "execute_result"
    }
   ],
   "source": [
    "hubway_lasso.score(merged_dummy_df[feature_col], merged_dummy_df['sqrt_trips'])"
   ]
  },
  {
   "cell_type": "code",
   "execution_count": 44,
   "metadata": {
    "collapsed": false
   },
   "outputs": [
    {
     "data": {
      "text/plain": [
       "3.5441249932957031"
      ]
     },
     "execution_count": 44,
     "metadata": {},
     "output_type": "execute_result"
    }
   ],
   "source": [
    "np.sqrt(hubway_lasso.mse_path_.mean(axis=1).min())"
   ]
  },
  {
   "cell_type": "markdown",
   "metadata": {},
   "source": [
    "### statsmodels"
   ]
  },
  {
   "cell_type": "code",
   "execution_count": 31,
   "metadata": {
    "collapsed": true
   },
   "outputs": [],
   "source": [
    "from sklearn import preprocessing\n",
    "scaler = preprocessing.MinMaxScaler()\n",
    "normalized_merged_df = scaler.fit_transform(merged_dummy_df[feature_col])"
   ]
  },
  {
   "cell_type": "code",
   "execution_count": 32,
   "metadata": {
    "collapsed": false
   },
   "outputs": [],
   "source": [
    "import patsy\n",
    "from statsmodels.regression.linear_model import OLS\n",
    "from statsmodels.formula.api import ols\n",
    "statsmodels_lasso = OLS(merged_dummy_df['trip_counts'],normalized_merged_df)\n",
    "merged_df.hour = merged_df.hour.astype('object')\n",
    "merged_df.day_week = merged_df.day_week.astype('object')\n",
    "formula_lasso = ols('sqrt_trips ~ conditions + temp + day_week* hour', merged_df)"
   ]
  },
  {
   "cell_type": "code",
   "execution_count": 37,
   "metadata": {
    "collapsed": false
   },
   "outputs": [],
   "source": [
    "results = formula_lasso.fit_regularized(maxiter=100)"
   ]
  },
  {
   "cell_type": "code",
   "execution_count": 38,
   "metadata": {
    "collapsed": false
   },
   "outputs": [
    {
     "data": {
      "text/html": [
       "<table class=\"simpletable\">\n",
       "<caption>OLS Regression Results</caption>\n",
       "<tr>\n",
       "  <th>Dep. Variable:</th>       <td>sqrt_trips</td>    <th>  R-squared:         </th> <td>   0.680</td> \n",
       "</tr>\n",
       "<tr>\n",
       "  <th>Model:</th>                   <td>OLS</td>       <th>  Adj. R-squared:    </th> <td>   0.677</td> \n",
       "</tr>\n",
       "<tr>\n",
       "  <th>Method:</th>             <td>Least Squares</td>  <th>  F-statistic:       </th> <td>   195.1</td> \n",
       "</tr>\n",
       "<tr>\n",
       "  <th>Date:</th>             <td>Sat, 14 Nov 2015</td> <th>  Prob (F-statistic):</th>  <td>  0.00</td>  \n",
       "</tr>\n",
       "<tr>\n",
       "  <th>Time:</th>                 <td>13:16:04</td>     <th>  Log-Likelihood:    </th> <td> -43724.</td> \n",
       "</tr>\n",
       "<tr>\n",
       "  <th>No. Observations:</th>      <td> 17508</td>      <th>  AIC:               </th> <td>8.783e+04</td>\n",
       "</tr>\n",
       "<tr>\n",
       "  <th>Df Residuals:</th>          <td> 17318</td>      <th>  BIC:               </th> <td>8.930e+04</td>\n",
       "</tr>\n",
       "<tr>\n",
       "  <th>Df Model:</th>              <td>   189</td>      <th>                     </th>     <td> </td>    \n",
       "</tr>\n",
       "<tr>\n",
       "  <th>Covariance Type:</th>      <td>nonrobust</td>    <th>                     </th>     <td> </td>    \n",
       "</tr>\n",
       "</table>\n",
       "<table class=\"simpletable\">\n",
       "<tr>\n",
       "                       <td></td>                          <th>coef</th>     <th>std err</th>      <th>t</th>      <th>P>|t|</th> <th>[95.0% Conf. Int.]</th> \n",
       "</tr>\n",
       "<tr>\n",
       "  <th>Intercept</th>                                   <td>    0.8432</td> <td>    0.313</td> <td>    2.694</td> <td> 0.007</td> <td>    0.230     1.457</td>\n",
       "</tr>\n",
       "<tr>\n",
       "  <th>conditions[T.Drizzle]</th>                       <td>   -5.3303</td> <td>    2.101</td> <td>   -2.537</td> <td> 0.011</td> <td>   -9.449    -1.212</td>\n",
       "</tr>\n",
       "<tr>\n",
       "  <th>conditions[T.Fog]</th>                           <td>    0.7646</td> <td>    0.234</td> <td>    3.268</td> <td> 0.001</td> <td>    0.306     1.223</td>\n",
       "</tr>\n",
       "<tr>\n",
       "  <th>conditions[T.Haze]</th>                          <td>   -0.5207</td> <td>    0.557</td> <td>   -0.935</td> <td> 0.350</td> <td>   -1.613     0.571</td>\n",
       "</tr>\n",
       "<tr>\n",
       "  <th>conditions[T.Heavy Drizzle]</th>                 <td>    1.3549</td> <td>    2.972</td> <td>    0.456</td> <td> 0.648</td> <td>   -4.470     7.180</td>\n",
       "</tr>\n",
       "<tr>\n",
       "  <th>conditions[T.Heavy Rain]</th>                    <td>   -4.7214</td> <td>    0.225</td> <td>  -20.972</td> <td> 0.000</td> <td>   -5.163    -4.280</td>\n",
       "</tr>\n",
       "<tr>\n",
       "  <th>conditions[T.Heavy Thunderstorms and Rain]</th>  <td>   -4.2303</td> <td>    0.461</td> <td>   -9.171</td> <td> 0.000</td> <td>   -5.135    -3.326</td>\n",
       "</tr>\n",
       "<tr>\n",
       "  <th>conditions[T.Heavy Thunderstorms with Hail]</th> <td>   -7.0022</td> <td>    2.971</td> <td>   -2.357</td> <td> 0.018</td> <td>  -12.826    -1.178</td>\n",
       "</tr>\n",
       "<tr>\n",
       "  <th>conditions[T.Light Drizzle]</th>                 <td>   -1.9153</td> <td>    0.250</td> <td>   -7.676</td> <td> 0.000</td> <td>   -2.404    -1.426</td>\n",
       "</tr>\n",
       "<tr>\n",
       "  <th>conditions[T.Light Rain]</th>                    <td>   -3.0720</td> <td>    0.104</td> <td>  -29.654</td> <td> 0.000</td> <td>   -3.275    -2.869</td>\n",
       "</tr>\n",
       "<tr>\n",
       "  <th>conditions[T.Light Snow]</th>                    <td>   -1.9741</td> <td>    0.438</td> <td>   -4.502</td> <td> 0.000</td> <td>   -2.834    -1.115</td>\n",
       "</tr>\n",
       "<tr>\n",
       "  <th>conditions[T.Light Thunderstorms and Rain]</th>  <td>   -2.3713</td> <td>    0.416</td> <td>   -5.702</td> <td> 0.000</td> <td>   -3.186    -1.556</td>\n",
       "</tr>\n",
       "<tr>\n",
       "  <th>conditions[T.Mist]</th>                          <td>    0.1862</td> <td>    0.946</td> <td>    0.197</td> <td> 0.844</td> <td>   -1.667     2.040</td>\n",
       "</tr>\n",
       "<tr>\n",
       "  <th>conditions[T.Mostly Cloudy]</th>                 <td>    0.3556</td> <td>    0.087</td> <td>    4.082</td> <td> 0.000</td> <td>    0.185     0.526</td>\n",
       "</tr>\n",
       "<tr>\n",
       "  <th>conditions[T.Overcast]</th>                      <td>   -0.3616</td> <td>    0.084</td> <td>   -4.318</td> <td> 0.000</td> <td>   -0.526    -0.197</td>\n",
       "</tr>\n",
       "<tr>\n",
       "  <th>conditions[T.Partly Cloudy]</th>                 <td>    0.3013</td> <td>    0.093</td> <td>    3.229</td> <td> 0.001</td> <td>    0.118     0.484</td>\n",
       "</tr>\n",
       "<tr>\n",
       "  <th>conditions[T.Patches of Fog]</th>                <td>   -0.4102</td> <td>    2.972</td> <td>   -0.138</td> <td> 0.890</td> <td>   -6.236     5.416</td>\n",
       "</tr>\n",
       "<tr>\n",
       "  <th>conditions[T.Rain]</th>                          <td>   -5.1699</td> <td>    0.173</td> <td>  -29.903</td> <td> 0.000</td> <td>   -5.509    -4.831</td>\n",
       "</tr>\n",
       "<tr>\n",
       "  <th>conditions[T.Scattered Clouds]</th>              <td>    0.4043</td> <td>    0.091</td> <td>    4.468</td> <td> 0.000</td> <td>    0.227     0.582</td>\n",
       "</tr>\n",
       "<tr>\n",
       "  <th>conditions[T.Thunderstorm]</th>                  <td>   -2.0172</td> <td>    0.799</td> <td>   -2.524</td> <td> 0.012</td> <td>   -3.584    -0.450</td>\n",
       "</tr>\n",
       "<tr>\n",
       "  <th>conditions[T.Thunderstorms and Rain]</th>        <td>   -5.2645</td> <td>    0.705</td> <td>   -7.465</td> <td> 0.000</td> <td>   -6.647    -3.882</td>\n",
       "</tr>\n",
       "<tr>\n",
       "  <th>conditions[T.Unknown]</th>                       <td>   -3.1117</td> <td>    2.101</td> <td>   -1.481</td> <td> 0.139</td> <td>   -7.230     1.006</td>\n",
       "</tr>\n",
       "<tr>\n",
       "  <th>day_week[T.1]</th>                               <td>   -0.8671</td> <td>    0.420</td> <td>   -2.064</td> <td> 0.039</td> <td>   -1.691    -0.043</td>\n",
       "</tr>\n",
       "<tr>\n",
       "  <th>day_week[T.2]</th>                               <td>   -0.5855</td> <td>    0.409</td> <td>   -1.430</td> <td> 0.153</td> <td>   -1.388     0.217</td>\n",
       "</tr>\n",
       "<tr>\n",
       "  <th>day_week[T.3]</th>                               <td>    0.0346</td> <td>    0.405</td> <td>    0.085</td> <td> 0.932</td> <td>   -0.759     0.828</td>\n",
       "</tr>\n",
       "<tr>\n",
       "  <th>day_week[T.4]</th>                               <td>    0.2494</td> <td>    0.405</td> <td>    0.616</td> <td> 0.538</td> <td>   -0.544     1.043</td>\n",
       "</tr>\n",
       "<tr>\n",
       "  <th>day_week[T.5]</th>                               <td>    1.5993</td> <td>    0.411</td> <td>    3.895</td> <td> 0.000</td> <td>    0.794     2.404</td>\n",
       "</tr>\n",
       "<tr>\n",
       "  <th>day_week[T.6]</th>                               <td>    1.8177</td> <td>    0.413</td> <td>    4.406</td> <td> 0.000</td> <td>    1.009     2.626</td>\n",
       "</tr>\n",
       "<tr>\n",
       "  <th>hour[T.1]</th>                                   <td>   -1.4695</td> <td>    0.409</td> <td>   -3.589</td> <td> 0.000</td> <td>   -2.272    -0.667</td>\n",
       "</tr>\n",
       "<tr>\n",
       "  <th>hour[T.2]</th>                                   <td>   -2.1733</td> <td>    0.417</td> <td>   -5.215</td> <td> 0.000</td> <td>   -2.990    -1.356</td>\n",
       "</tr>\n",
       "<tr>\n",
       "  <th>hour[T.3]</th>                                   <td>   -2.7773</td> <td>    0.416</td> <td>   -6.681</td> <td> 0.000</td> <td>   -3.592    -1.962</td>\n",
       "</tr>\n",
       "<tr>\n",
       "  <th>hour[T.4]</th>                                   <td>   -2.7999</td> <td>    0.414</td> <td>   -6.769</td> <td> 0.000</td> <td>   -3.611    -1.989</td>\n",
       "</tr>\n",
       "<tr>\n",
       "  <th>hour[T.5]</th>                                   <td>   -1.2219</td> <td>    0.398</td> <td>   -3.070</td> <td> 0.002</td> <td>   -2.002    -0.442</td>\n",
       "</tr>\n",
       "<tr>\n",
       "  <th>hour[T.6]</th>                                   <td>    2.1862</td> <td>    0.411</td> <td>    5.325</td> <td> 0.000</td> <td>    1.381     2.991</td>\n",
       "</tr>\n",
       "<tr>\n",
       "  <th>hour[T.7]</th>                                   <td>    6.1058</td> <td>    0.402</td> <td>   15.179</td> <td> 0.000</td> <td>    5.317     6.894</td>\n",
       "</tr>\n",
       "<tr>\n",
       "  <th>hour[T.8]</th>                                   <td>    9.0105</td> <td>    0.398</td> <td>   22.631</td> <td> 0.000</td> <td>    8.230     9.791</td>\n",
       "</tr>\n",
       "<tr>\n",
       "  <th>hour[T.9]</th>                                   <td>    6.2251</td> <td>    0.399</td> <td>   15.602</td> <td> 0.000</td> <td>    5.443     7.007</td>\n",
       "</tr>\n",
       "<tr>\n",
       "  <th>hour[T.10]</th>                                  <td>    3.7988</td> <td>    0.404</td> <td>    9.413</td> <td> 0.000</td> <td>    3.008     4.590</td>\n",
       "</tr>\n",
       "<tr>\n",
       "  <th>hour[T.11]</th>                                  <td>    4.1927</td> <td>    0.409</td> <td>   10.251</td> <td> 0.000</td> <td>    3.391     4.994</td>\n",
       "</tr>\n",
       "<tr>\n",
       "  <th>hour[T.12]</th>                                  <td>    5.3912</td> <td>    0.410</td> <td>   13.146</td> <td> 0.000</td> <td>    4.587     6.195</td>\n",
       "</tr>\n",
       "<tr>\n",
       "  <th>hour[T.13]</th>                                  <td>    5.3796</td> <td>    0.419</td> <td>   12.850</td> <td> 0.000</td> <td>    4.559     6.200</td>\n",
       "</tr>\n",
       "<tr>\n",
       "  <th>hour[T.14]</th>                                  <td>    5.1635</td> <td>    0.425</td> <td>   12.160</td> <td> 0.000</td> <td>    4.331     5.996</td>\n",
       "</tr>\n",
       "<tr>\n",
       "  <th>hour[T.15]</th>                                  <td>    5.6993</td> <td>    0.416</td> <td>   13.688</td> <td> 0.000</td> <td>    4.883     6.515</td>\n",
       "</tr>\n",
       "<tr>\n",
       "  <th>hour[T.16]</th>                                  <td>    8.6177</td> <td>    0.417</td> <td>   20.644</td> <td> 0.000</td> <td>    7.799     9.436</td>\n",
       "</tr>\n",
       "<tr>\n",
       "  <th>hour[T.17]</th>                                  <td>   12.2185</td> <td>    0.408</td> <td>   29.917</td> <td> 0.000</td> <td>   11.418    13.019</td>\n",
       "</tr>\n",
       "<tr>\n",
       "  <th>hour[T.18]</th>                                  <td>    9.2313</td> <td>    0.420</td> <td>   21.996</td> <td> 0.000</td> <td>    8.409    10.054</td>\n",
       "</tr>\n",
       "<tr>\n",
       "  <th>hour[T.19]</th>                                  <td>    6.9654</td> <td>    0.414</td> <td>   16.833</td> <td> 0.000</td> <td>    6.154     7.777</td>\n",
       "</tr>\n",
       "<tr>\n",
       "  <th>hour[T.20]</th>                                  <td>    4.7714</td> <td>    0.415</td> <td>   11.508</td> <td> 0.000</td> <td>    3.959     5.584</td>\n",
       "</tr>\n",
       "<tr>\n",
       "  <th>hour[T.21]</th>                                  <td>    3.1083</td> <td>    0.413</td> <td>    7.535</td> <td> 0.000</td> <td>    2.300     3.917</td>\n",
       "</tr>\n",
       "<tr>\n",
       "  <th>hour[T.22]</th>                                  <td>    2.0140</td> <td>    0.413</td> <td>    4.871</td> <td> 0.000</td> <td>    1.204     2.824</td>\n",
       "</tr>\n",
       "<tr>\n",
       "  <th>hour[T.23]</th>                                  <td>    0.6638</td> <td>    0.417</td> <td>    1.593</td> <td> 0.111</td> <td>   -0.153     1.481</td>\n",
       "</tr>\n",
       "<tr>\n",
       "  <th>day_week[T.1]:hour[T.1]</th>                     <td>    0.5795</td> <td>    0.596</td> <td>    0.972</td> <td> 0.331</td> <td>   -0.590     1.748</td>\n",
       "</tr>\n",
       "<tr>\n",
       "  <th>day_week[T.2]:hour[T.1]</th>                     <td>    0.6815</td> <td>    0.574</td> <td>    1.187</td> <td> 0.235</td> <td>   -0.444     1.807</td>\n",
       "</tr>\n",
       "<tr>\n",
       "  <th>day_week[T.3]:hour[T.1]</th>                     <td>    0.0605</td> <td>    0.577</td> <td>    0.105</td> <td> 0.916</td> <td>   -1.070     1.191</td>\n",
       "</tr>\n",
       "<tr>\n",
       "  <th>day_week[T.4]:hour[T.1]</th>                     <td>    0.4246</td> <td>    0.573</td> <td>    0.741</td> <td> 0.459</td> <td>   -0.699     1.548</td>\n",
       "</tr>\n",
       "<tr>\n",
       "  <th>day_week[T.5]:hour[T.1]</th>                     <td>    1.6153</td> <td>    0.580</td> <td>    2.787</td> <td> 0.005</td> <td>    0.479     2.751</td>\n",
       "</tr>\n",
       "<tr>\n",
       "  <th>day_week[T.6]:hour[T.1]</th>                     <td>    2.0339</td> <td>    0.581</td> <td>    3.501</td> <td> 0.000</td> <td>    0.895     3.173</td>\n",
       "</tr>\n",
       "<tr>\n",
       "  <th>day_week[T.1]:hour[T.2]</th>                     <td>    0.3426</td> <td>    0.601</td> <td>    0.570</td> <td> 0.569</td> <td>   -0.836     1.521</td>\n",
       "</tr>\n",
       "<tr>\n",
       "  <th>day_week[T.2]:hour[T.2]</th>                     <td>    0.3922</td> <td>    0.590</td> <td>    0.665</td> <td> 0.506</td> <td>   -0.764     1.548</td>\n",
       "</tr>\n",
       "<tr>\n",
       "  <th>day_week[T.3]:hour[T.2]</th>                     <td>   -0.1214</td> <td>    0.585</td> <td>   -0.207</td> <td> 0.836</td> <td>   -1.268     1.025</td>\n",
       "</tr>\n",
       "<tr>\n",
       "  <th>day_week[T.4]:hour[T.2]</th>                     <td>    0.2823</td> <td>    0.580</td> <td>    0.487</td> <td> 0.627</td> <td>   -0.855     1.419</td>\n",
       "</tr>\n",
       "<tr>\n",
       "  <th>day_week[T.5]:hour[T.2]</th>                     <td>    1.6263</td> <td>    0.584</td> <td>    2.784</td> <td> 0.005</td> <td>    0.481     2.771</td>\n",
       "</tr>\n",
       "<tr>\n",
       "  <th>day_week[T.6]:hour[T.2]</th>                     <td>    2.5157</td> <td>    0.593</td> <td>    4.244</td> <td> 0.000</td> <td>    1.354     3.678</td>\n",
       "</tr>\n",
       "<tr>\n",
       "  <th>day_week[T.1]:hour[T.3]</th>                     <td>    0.4874</td> <td>    0.607</td> <td>    0.803</td> <td> 0.422</td> <td>   -0.703     1.678</td>\n",
       "</tr>\n",
       "<tr>\n",
       "  <th>day_week[T.2]:hour[T.3]</th>                     <td>    0.4901</td> <td>    0.589</td> <td>    0.831</td> <td> 0.406</td> <td>   -0.665     1.645</td>\n",
       "</tr>\n",
       "<tr>\n",
       "  <th>day_week[T.3]:hour[T.3]</th>                     <td>   -0.1926</td> <td>    0.600</td> <td>   -0.321</td> <td> 0.748</td> <td>   -1.370     0.984</td>\n",
       "</tr>\n",
       "<tr>\n",
       "  <th>day_week[T.4]:hour[T.3]</th>                     <td>   -0.0700</td> <td>    0.588</td> <td>   -0.119</td> <td> 0.905</td> <td>   -1.223     1.083</td>\n",
       "</tr>\n",
       "<tr>\n",
       "  <th>day_week[T.5]:hour[T.3]</th>                     <td>   -0.5371</td> <td>    0.586</td> <td>   -0.916</td> <td> 0.360</td> <td>   -1.686     0.612</td>\n",
       "</tr>\n",
       "<tr>\n",
       "  <th>day_week[T.6]:hour[T.3]</th>                     <td>   -0.7939</td> <td>    0.594</td> <td>   -1.337</td> <td> 0.181</td> <td>   -1.957     0.370</td>\n",
       "</tr>\n",
       "<tr>\n",
       "  <th>day_week[T.1]:hour[T.4]</th>                     <td>    1.0021</td> <td>    0.613</td> <td>    1.635</td> <td> 0.102</td> <td>   -0.199     2.203</td>\n",
       "</tr>\n",
       "<tr>\n",
       "  <th>day_week[T.2]:hour[T.4]</th>                     <td>    0.7417</td> <td>    0.592</td> <td>    1.253</td> <td> 0.210</td> <td>   -0.418     1.902</td>\n",
       "</tr>\n",
       "<tr>\n",
       "  <th>day_week[T.3]:hour[T.4]</th>                     <td>   -0.0820</td> <td>    0.592</td> <td>   -0.139</td> <td> 0.890</td> <td>   -1.241     1.078</td>\n",
       "</tr>\n",
       "<tr>\n",
       "  <th>day_week[T.4]:hour[T.4]</th>                     <td>   -0.0898</td> <td>    0.584</td> <td>   -0.154</td> <td> 0.878</td> <td>   -1.234     1.054</td>\n",
       "</tr>\n",
       "<tr>\n",
       "  <th>day_week[T.5]:hour[T.4]</th>                     <td>   -1.4324</td> <td>    0.589</td> <td>   -2.431</td> <td> 0.015</td> <td>   -2.587    -0.277</td>\n",
       "</tr>\n",
       "<tr>\n",
       "  <th>day_week[T.6]:hour[T.4]</th>                     <td>   -1.7282</td> <td>    0.593</td> <td>   -2.915</td> <td> 0.004</td> <td>   -2.890    -0.566</td>\n",
       "</tr>\n",
       "<tr>\n",
       "  <th>day_week[T.1]:hour[T.5]</th>                     <td>    1.3127</td> <td>    0.583</td> <td>    2.252</td> <td> 0.024</td> <td>    0.170     2.455</td>\n",
       "</tr>\n",
       "<tr>\n",
       "  <th>day_week[T.2]:hour[T.5]</th>                     <td>    1.0697</td> <td>    0.569</td> <td>    1.881</td> <td> 0.060</td> <td>   -0.045     2.184</td>\n",
       "</tr>\n",
       "<tr>\n",
       "  <th>day_week[T.3]:hour[T.5]</th>                     <td>    0.0881</td> <td>    0.570</td> <td>    0.155</td> <td> 0.877</td> <td>   -1.028     1.205</td>\n",
       "</tr>\n",
       "<tr>\n",
       "  <th>day_week[T.4]:hour[T.5]</th>                     <td>   -0.0665</td> <td>    0.572</td> <td>   -0.116</td> <td> 0.907</td> <td>   -1.187     1.054</td>\n",
       "</tr>\n",
       "<tr>\n",
       "  <th>day_week[T.5]:hour[T.5]</th>                     <td>   -2.9114</td> <td>    0.584</td> <td>   -4.989</td> <td> 0.000</td> <td>   -4.055    -1.768</td>\n",
       "</tr>\n",
       "<tr>\n",
       "  <th>day_week[T.6]:hour[T.5]</th>                     <td>   -3.1156</td> <td>    0.579</td> <td>   -5.382</td> <td> 0.000</td> <td>   -4.250    -1.981</td>\n",
       "</tr>\n",
       "<tr>\n",
       "  <th>day_week[T.1]:hour[T.6]</th>                     <td>    1.5699</td> <td>    0.583</td> <td>    2.691</td> <td> 0.007</td> <td>    0.427     2.713</td>\n",
       "</tr>\n",
       "<tr>\n",
       "  <th>day_week[T.2]:hour[T.6]</th>                     <td>    1.2709</td> <td>    0.568</td> <td>    2.237</td> <td> 0.025</td> <td>    0.157     2.385</td>\n",
       "</tr>\n",
       "<tr>\n",
       "  <th>day_week[T.3]:hour[T.6]</th>                     <td>    0.2046</td> <td>    0.570</td> <td>    0.359</td> <td> 0.720</td> <td>   -0.914     1.323</td>\n",
       "</tr>\n",
       "<tr>\n",
       "  <th>day_week[T.4]:hour[T.6]</th>                     <td>   -0.1234</td> <td>    0.573</td> <td>   -0.215</td> <td> 0.830</td> <td>   -1.247     1.001</td>\n",
       "</tr>\n",
       "<tr>\n",
       "  <th>day_week[T.5]:hour[T.6]</th>                     <td>   -5.4420</td> <td>    0.582</td> <td>   -9.355</td> <td> 0.000</td> <td>   -6.582    -4.302</td>\n",
       "</tr>\n",
       "<tr>\n",
       "  <th>day_week[T.6]:hour[T.6]</th>                     <td>   -5.8241</td> <td>    0.588</td> <td>   -9.912</td> <td> 0.000</td> <td>   -6.976    -4.672</td>\n",
       "</tr>\n",
       "<tr>\n",
       "  <th>day_week[T.1]:hour[T.7]</th>                     <td>    2.3073</td> <td>    0.576</td> <td>    4.004</td> <td> 0.000</td> <td>    1.178     3.437</td>\n",
       "</tr>\n",
       "<tr>\n",
       "  <th>day_week[T.2]:hour[T.7]</th>                     <td>    1.6042</td> <td>    0.568</td> <td>    2.825</td> <td> 0.005</td> <td>    0.491     2.717</td>\n",
       "</tr>\n",
       "<tr>\n",
       "  <th>day_week[T.3]:hour[T.7]</th>                     <td>    0.8122</td> <td>    0.568</td> <td>    1.430</td> <td> 0.153</td> <td>   -0.301     1.925</td>\n",
       "</tr>\n",
       "<tr>\n",
       "  <th>day_week[T.4]:hour[T.7]</th>                     <td>    0.2673</td> <td>    0.567</td> <td>    0.471</td> <td> 0.638</td> <td>   -0.845     1.380</td>\n",
       "</tr>\n",
       "<tr>\n",
       "  <th>day_week[T.5]:hour[T.7]</th>                     <td>   -7.8055</td> <td>    0.569</td> <td>  -13.726</td> <td> 0.000</td> <td>   -8.920    -6.691</td>\n",
       "</tr>\n",
       "<tr>\n",
       "  <th>day_week[T.6]:hour[T.7]</th>                     <td>   -8.3767</td> <td>    0.581</td> <td>  -14.421</td> <td> 0.000</td> <td>   -9.515    -7.238</td>\n",
       "</tr>\n",
       "<tr>\n",
       "  <th>day_week[T.1]:hour[T.8]</th>                     <td>    2.8056</td> <td>    0.578</td> <td>    4.856</td> <td> 0.000</td> <td>    1.673     3.938</td>\n",
       "</tr>\n",
       "<tr>\n",
       "  <th>day_week[T.2]:hour[T.8]</th>                     <td>    1.8920</td> <td>    0.562</td> <td>    3.369</td> <td> 0.001</td> <td>    0.791     2.993</td>\n",
       "</tr>\n",
       "<tr>\n",
       "  <th>day_week[T.3]:hour[T.8]</th>                     <td>    1.5979</td> <td>    0.565</td> <td>    2.828</td> <td> 0.005</td> <td>    0.490     2.705</td>\n",
       "</tr>\n",
       "<tr>\n",
       "  <th>day_week[T.4]:hour[T.8]</th>                     <td>    0.9417</td> <td>    0.565</td> <td>    1.668</td> <td> 0.095</td> <td>   -0.165     2.048</td>\n",
       "</tr>\n",
       "<tr>\n",
       "  <th>day_week[T.5]:hour[T.8]</th>                     <td>   -8.7377</td> <td>    0.566</td> <td>  -15.444</td> <td> 0.000</td> <td>   -9.847    -7.629</td>\n",
       "</tr>\n",
       "<tr>\n",
       "  <th>day_week[T.6]:hour[T.8]</th>                     <td>   -9.7699</td> <td>    0.570</td> <td>  -17.136</td> <td> 0.000</td> <td>  -10.887    -8.652</td>\n",
       "</tr>\n",
       "<tr>\n",
       "  <th>day_week[T.1]:hour[T.9]</th>                     <td>    1.2342</td> <td>    0.584</td> <td>    2.113</td> <td> 0.035</td> <td>    0.089     2.379</td>\n",
       "</tr>\n",
       "<tr>\n",
       "  <th>day_week[T.2]:hour[T.9]</th>                     <td>    0.7802</td> <td>    0.565</td> <td>    1.381</td> <td> 0.167</td> <td>   -0.327     1.887</td>\n",
       "</tr>\n",
       "<tr>\n",
       "  <th>day_week[T.3]:hour[T.9]</th>                     <td>    0.3190</td> <td>    0.564</td> <td>    0.565</td> <td> 0.572</td> <td>   -0.787     1.425</td>\n",
       "</tr>\n",
       "<tr>\n",
       "  <th>day_week[T.4]:hour[T.9]</th>                     <td>   -0.3832</td> <td>    0.567</td> <td>   -0.676</td> <td> 0.499</td> <td>   -1.495     0.728</td>\n",
       "</tr>\n",
       "<tr>\n",
       "  <th>day_week[T.5]:hour[T.9]</th>                     <td>   -4.5005</td> <td>    0.571</td> <td>   -7.878</td> <td> 0.000</td> <td>   -5.620    -3.381</td>\n",
       "</tr>\n",
       "<tr>\n",
       "  <th>day_week[T.6]:hour[T.9]</th>                     <td>   -4.9256</td> <td>    0.574</td> <td>   -8.578</td> <td> 0.000</td> <td>   -6.051    -3.800</td>\n",
       "</tr>\n",
       "<tr>\n",
       "  <th>day_week[T.1]:hour[T.10]</th>                    <td>    1.1544</td> <td>    0.583</td> <td>    1.981</td> <td> 0.048</td> <td>    0.012     2.297</td>\n",
       "</tr>\n",
       "<tr>\n",
       "  <th>day_week[T.2]:hour[T.10]</th>                    <td>    1.0217</td> <td>    0.569</td> <td>    1.795</td> <td> 0.073</td> <td>   -0.094     2.137</td>\n",
       "</tr>\n",
       "<tr>\n",
       "  <th>day_week[T.3]:hour[T.10]</th>                    <td>   -0.0483</td> <td>    0.571</td> <td>   -0.085</td> <td> 0.933</td> <td>   -1.168     1.071</td>\n",
       "</tr>\n",
       "<tr>\n",
       "  <th>day_week[T.4]:hour[T.10]</th>                    <td>    0.1447</td> <td>    0.575</td> <td>    0.252</td> <td> 0.801</td> <td>   -0.982     1.271</td>\n",
       "</tr>\n",
       "<tr>\n",
       "  <th>day_week[T.5]:hour[T.10]</th>                    <td>   -0.5683</td> <td>    0.578</td> <td>   -0.984</td> <td> 0.325</td> <td>   -1.700     0.564</td>\n",
       "</tr>\n",
       "<tr>\n",
       "  <th>day_week[T.6]:hour[T.10]</th>                    <td>   -0.9320</td> <td>    0.578</td> <td>   -1.613</td> <td> 0.107</td> <td>   -2.065     0.201</td>\n",
       "</tr>\n",
       "<tr>\n",
       "  <th>day_week[T.1]:hour[T.11]</th>                    <td>    0.9105</td> <td>    0.585</td> <td>    1.556</td> <td> 0.120</td> <td>   -0.236     2.057</td>\n",
       "</tr>\n",
       "<tr>\n",
       "  <th>day_week[T.2]:hour[T.11]</th>                    <td>    0.8761</td> <td>    0.577</td> <td>    1.519</td> <td> 0.129</td> <td>   -0.254     2.006</td>\n",
       "</tr>\n",
       "<tr>\n",
       "  <th>day_week[T.3]:hour[T.11]</th>                    <td>   -0.1016</td> <td>    0.572</td> <td>   -0.178</td> <td> 0.859</td> <td>   -1.222     1.019</td>\n",
       "</tr>\n",
       "<tr>\n",
       "  <th>day_week[T.4]:hour[T.11]</th>                    <td>    0.4429</td> <td>    0.578</td> <td>    0.767</td> <td> 0.443</td> <td>   -0.689     1.575</td>\n",
       "</tr>\n",
       "<tr>\n",
       "  <th>day_week[T.5]:hour[T.11]</th>                    <td>    0.6453</td> <td>    0.579</td> <td>    1.115</td> <td> 0.265</td> <td>   -0.489     1.780</td>\n",
       "</tr>\n",
       "<tr>\n",
       "  <th>day_week[T.6]:hour[T.11]</th>                    <td>    0.0769</td> <td>    0.581</td> <td>    0.132</td> <td> 0.895</td> <td>   -1.062     1.216</td>\n",
       "</tr>\n",
       "<tr>\n",
       "  <th>day_week[T.1]:hour[T.12]</th>                    <td>    0.9232</td> <td>    0.590</td> <td>    1.565</td> <td> 0.118</td> <td>   -0.233     2.080</td>\n",
       "</tr>\n",
       "<tr>\n",
       "  <th>day_week[T.2]:hour[T.12]</th>                    <td>    0.3519</td> <td>    0.582</td> <td>    0.605</td> <td> 0.545</td> <td>   -0.788     1.492</td>\n",
       "</tr>\n",
       "<tr>\n",
       "  <th>day_week[T.3]:hour[T.12]</th>                    <td>   -0.2483</td> <td>    0.573</td> <td>   -0.433</td> <td> 0.665</td> <td>   -1.371     0.875</td>\n",
       "</tr>\n",
       "<tr>\n",
       "  <th>day_week[T.4]:hour[T.12]</th>                    <td>    0.4978</td> <td>    0.572</td> <td>    0.870</td> <td> 0.384</td> <td>   -0.624     1.619</td>\n",
       "</tr>\n",
       "<tr>\n",
       "  <th>day_week[T.5]:hour[T.12]</th>                    <td>    0.6328</td> <td>    0.583</td> <td>    1.085</td> <td> 0.278</td> <td>   -0.510     1.776</td>\n",
       "</tr>\n",
       "<tr>\n",
       "  <th>day_week[T.6]:hour[T.12]</th>                    <td>   -0.2529</td> <td>    0.580</td> <td>   -0.436</td> <td> 0.663</td> <td>   -1.391     0.885</td>\n",
       "</tr>\n",
       "<tr>\n",
       "  <th>day_week[T.1]:hour[T.13]</th>                    <td>    0.5732</td> <td>    0.590</td> <td>    0.971</td> <td> 0.332</td> <td>   -0.584     1.731</td>\n",
       "</tr>\n",
       "<tr>\n",
       "  <th>day_week[T.2]:hour[T.13]</th>                    <td>    0.3696</td> <td>    0.588</td> <td>    0.628</td> <td> 0.530</td> <td>   -0.784     1.523</td>\n",
       "</tr>\n",
       "<tr>\n",
       "  <th>day_week[T.3]:hour[T.13]</th>                    <td>   -0.2589</td> <td>    0.575</td> <td>   -0.450</td> <td> 0.652</td> <td>   -1.386     0.868</td>\n",
       "</tr>\n",
       "<tr>\n",
       "  <th>day_week[T.4]:hour[T.13]</th>                    <td>    0.1648</td> <td>    0.585</td> <td>    0.282</td> <td> 0.778</td> <td>   -0.982     1.311</td>\n",
       "</tr>\n",
       "<tr>\n",
       "  <th>day_week[T.5]:hour[T.13]</th>                    <td>    0.9896</td> <td>    0.589</td> <td>    1.680</td> <td> 0.093</td> <td>   -0.165     2.144</td>\n",
       "</tr>\n",
       "<tr>\n",
       "  <th>day_week[T.6]:hour[T.13]</th>                    <td>    0.7056</td> <td>    0.589</td> <td>    1.199</td> <td> 0.231</td> <td>   -0.448     1.859</td>\n",
       "</tr>\n",
       "<tr>\n",
       "  <th>day_week[T.1]:hour[T.14]</th>                    <td>    0.5593</td> <td>    0.591</td> <td>    0.947</td> <td> 0.344</td> <td>   -0.598     1.717</td>\n",
       "</tr>\n",
       "<tr>\n",
       "  <th>day_week[T.2]:hour[T.14]</th>                    <td>   -0.1486</td> <td>    0.584</td> <td>   -0.254</td> <td> 0.799</td> <td>   -1.294     0.997</td>\n",
       "</tr>\n",
       "<tr>\n",
       "  <th>day_week[T.3]:hour[T.14]</th>                    <td>   -0.3547</td> <td>    0.585</td> <td>   -0.607</td> <td> 0.544</td> <td>   -1.501     0.791</td>\n",
       "</tr>\n",
       "<tr>\n",
       "  <th>day_week[T.4]:hour[T.14]</th>                    <td>    0.3604</td> <td>    0.586</td> <td>    0.615</td> <td> 0.538</td> <td>   -0.788     1.509</td>\n",
       "</tr>\n",
       "<tr>\n",
       "  <th>day_week[T.5]:hour[T.14]</th>                    <td>    1.3870</td> <td>    0.587</td> <td>    2.361</td> <td> 0.018</td> <td>    0.236     2.538</td>\n",
       "</tr>\n",
       "<tr>\n",
       "  <th>day_week[T.6]:hour[T.14]</th>                    <td>    1.3302</td> <td>    0.592</td> <td>    2.247</td> <td> 0.025</td> <td>    0.170     2.491</td>\n",
       "</tr>\n",
       "<tr>\n",
       "  <th>day_week[T.1]:hour[T.15]</th>                    <td>    0.3950</td> <td>    0.584</td> <td>    0.677</td> <td> 0.499</td> <td>   -0.749     1.539</td>\n",
       "</tr>\n",
       "<tr>\n",
       "  <th>day_week[T.2]:hour[T.15]</th>                    <td>    0.3419</td> <td>    0.579</td> <td>    0.590</td> <td> 0.555</td> <td>   -0.794     1.478</td>\n",
       "</tr>\n",
       "<tr>\n",
       "  <th>day_week[T.3]:hour[T.15]</th>                    <td>    0.1132</td> <td>    0.579</td> <td>    0.196</td> <td> 0.845</td> <td>   -1.021     1.247</td>\n",
       "</tr>\n",
       "<tr>\n",
       "  <th>day_week[T.4]:hour[T.15]</th>                    <td>    0.6876</td> <td>    0.579</td> <td>    1.187</td> <td> 0.235</td> <td>   -0.448     1.823</td>\n",
       "</tr>\n",
       "<tr>\n",
       "  <th>day_week[T.5]:hour[T.15]</th>                    <td>    1.0534</td> <td>    0.586</td> <td>    1.797</td> <td> 0.072</td> <td>   -0.096     2.203</td>\n",
       "</tr>\n",
       "<tr>\n",
       "  <th>day_week[T.6]:hour[T.15]</th>                    <td>   -0.2143</td> <td>    0.584</td> <td>   -0.367</td> <td> 0.714</td> <td>   -1.359     0.931</td>\n",
       "</tr>\n",
       "<tr>\n",
       "  <th>day_week[T.1]:hour[T.16]</th>                    <td>    0.5974</td> <td>    0.588</td> <td>    1.016</td> <td> 0.310</td> <td>   -0.556     1.750</td>\n",
       "</tr>\n",
       "<tr>\n",
       "  <th>day_week[T.2]:hour[T.16]</th>                    <td>   -0.1412</td> <td>    0.583</td> <td>   -0.242</td> <td> 0.809</td> <td>   -1.284     1.001</td>\n",
       "</tr>\n",
       "<tr>\n",
       "  <th>day_week[T.3]:hour[T.16]</th>                    <td>   -0.7161</td> <td>    0.583</td> <td>   -1.228</td> <td> 0.219</td> <td>   -1.859     0.427</td>\n",
       "</tr>\n",
       "<tr>\n",
       "  <th>day_week[T.4]:hour[T.16]</th>                    <td>    0.0608</td> <td>    0.580</td> <td>    0.105</td> <td> 0.917</td> <td>   -1.077     1.198</td>\n",
       "</tr>\n",
       "<tr>\n",
       "  <th>day_week[T.5]:hour[T.16]</th>                    <td>   -2.1166</td> <td>    0.588</td> <td>   -3.601</td> <td> 0.000</td> <td>   -3.269    -0.965</td>\n",
       "</tr>\n",
       "<tr>\n",
       "  <th>day_week[T.6]:hour[T.16]</th>                    <td>   -2.7186</td> <td>    0.586</td> <td>   -4.637</td> <td> 0.000</td> <td>   -3.868    -1.569</td>\n",
       "</tr>\n",
       "<tr>\n",
       "  <th>day_week[T.1]:hour[T.17]</th>                    <td>    0.7749</td> <td>    0.580</td> <td>    1.335</td> <td> 0.182</td> <td>   -0.363     1.912</td>\n",
       "</tr>\n",
       "<tr>\n",
       "  <th>day_week[T.2]:hour[T.17]</th>                    <td>   -0.7346</td> <td>    0.570</td> <td>   -1.290</td> <td> 0.197</td> <td>   -1.851     0.382</td>\n",
       "</tr>\n",
       "<tr>\n",
       "  <th>day_week[T.3]:hour[T.17]</th>                    <td>   -0.7755</td> <td>    0.578</td> <td>   -1.341</td> <td> 0.180</td> <td>   -1.909     0.358</td>\n",
       "</tr>\n",
       "<tr>\n",
       "  <th>day_week[T.4]:hour[T.17]</th>                    <td>   -2.0564</td> <td>    0.567</td> <td>   -3.625</td> <td> 0.000</td> <td>   -3.169    -0.944</td>\n",
       "</tr>\n",
       "<tr>\n",
       "  <th>day_week[T.5]:hour[T.17]</th>                    <td>   -6.0341</td> <td>    0.579</td> <td>  -10.417</td> <td> 0.000</td> <td>   -7.170    -4.899</td>\n",
       "</tr>\n",
       "<tr>\n",
       "  <th>day_week[T.6]:hour[T.17]</th>                    <td>   -7.1036</td> <td>    0.576</td> <td>  -12.334</td> <td> 0.000</td> <td>   -8.232    -5.975</td>\n",
       "</tr>\n",
       "<tr>\n",
       "  <th>day_week[T.1]:hour[T.18]</th>                    <td>    0.9026</td> <td>    0.586</td> <td>    1.540</td> <td> 0.124</td> <td>   -0.247     2.052</td>\n",
       "</tr>\n",
       "<tr>\n",
       "  <th>day_week[T.2]:hour[T.18]</th>                    <td>    1.0036</td> <td>    0.582</td> <td>    1.724</td> <td> 0.085</td> <td>   -0.137     2.144</td>\n",
       "</tr>\n",
       "<tr>\n",
       "  <th>day_week[T.3]:hour[T.18]</th>                    <td>   -0.5961</td> <td>    0.581</td> <td>   -1.027</td> <td> 0.305</td> <td>   -1.734     0.542</td>\n",
       "</tr>\n",
       "<tr>\n",
       "  <th>day_week[T.4]:hour[T.18]</th>                    <td>   -1.8404</td> <td>    0.580</td> <td>   -3.174</td> <td> 0.002</td> <td>   -2.977    -0.704</td>\n",
       "</tr>\n",
       "<tr>\n",
       "  <th>day_week[T.5]:hour[T.18]</th>                    <td>   -4.3262</td> <td>    0.587</td> <td>   -7.376</td> <td> 0.000</td> <td>   -5.476    -3.177</td>\n",
       "</tr>\n",
       "<tr>\n",
       "  <th>day_week[T.6]:hour[T.18]</th>                    <td>   -4.6229</td> <td>    0.586</td> <td>   -7.893</td> <td> 0.000</td> <td>   -5.771    -3.475</td>\n",
       "</tr>\n",
       "<tr>\n",
       "  <th>day_week[T.1]:hour[T.19]</th>                    <td>    0.6761</td> <td>    0.584</td> <td>    1.158</td> <td> 0.247</td> <td>   -0.469     1.821</td>\n",
       "</tr>\n",
       "<tr>\n",
       "  <th>day_week[T.2]:hour[T.19]</th>                    <td>    0.8100</td> <td>    0.584</td> <td>    1.387</td> <td> 0.165</td> <td>   -0.334     1.954</td>\n",
       "</tr>\n",
       "<tr>\n",
       "  <th>day_week[T.3]:hour[T.19]</th>                    <td>   -0.3182</td> <td>    0.578</td> <td>   -0.550</td> <td> 0.582</td> <td>   -1.452     0.816</td>\n",
       "</tr>\n",
       "<tr>\n",
       "  <th>day_week[T.4]:hour[T.19]</th>                    <td>   -1.5526</td> <td>    0.575</td> <td>   -2.699</td> <td> 0.007</td> <td>   -2.680    -0.425</td>\n",
       "</tr>\n",
       "<tr>\n",
       "  <th>day_week[T.5]:hour[T.19]</th>                    <td>   -3.1581</td> <td>    0.586</td> <td>   -5.388</td> <td> 0.000</td> <td>   -4.307    -2.009</td>\n",
       "</tr>\n",
       "<tr>\n",
       "  <th>day_week[T.6]:hour[T.19]</th>                    <td>   -3.8075</td> <td>    0.590</td> <td>   -6.455</td> <td> 0.000</td> <td>   -4.964    -2.651</td>\n",
       "</tr>\n",
       "<tr>\n",
       "  <th>day_week[T.1]:hour[T.20]</th>                    <td>    0.9824</td> <td>    0.591</td> <td>    1.663</td> <td> 0.096</td> <td>   -0.176     2.140</td>\n",
       "</tr>\n",
       "<tr>\n",
       "  <th>day_week[T.2]:hour[T.20]</th>                    <td>    1.5438</td> <td>    0.576</td> <td>    2.681</td> <td> 0.007</td> <td>    0.415     2.673</td>\n",
       "</tr>\n",
       "<tr>\n",
       "  <th>day_week[T.3]:hour[T.20]</th>                    <td>    0.1023</td> <td>    0.581</td> <td>    0.176</td> <td> 0.860</td> <td>   -1.036     1.240</td>\n",
       "</tr>\n",
       "<tr>\n",
       "  <th>day_week[T.4]:hour[T.20]</th>                    <td>   -1.0273</td> <td>    0.580</td> <td>   -1.771</td> <td> 0.076</td> <td>   -2.164     0.109</td>\n",
       "</tr>\n",
       "<tr>\n",
       "  <th>day_week[T.5]:hour[T.20]</th>                    <td>   -2.3071</td> <td>    0.583</td> <td>   -3.955</td> <td> 0.000</td> <td>   -3.450    -1.164</td>\n",
       "</tr>\n",
       "<tr>\n",
       "  <th>day_week[T.6]:hour[T.20]</th>                    <td>   -3.1598</td> <td>    0.591</td> <td>   -5.351</td> <td> 0.000</td> <td>   -4.317    -2.002</td>\n",
       "</tr>\n",
       "<tr>\n",
       "  <th>day_week[T.1]:hour[T.21]</th>                    <td>    1.2451</td> <td>    0.591</td> <td>    2.105</td> <td> 0.035</td> <td>    0.086     2.404</td>\n",
       "</tr>\n",
       "<tr>\n",
       "  <th>day_week[T.2]:hour[T.21]</th>                    <td>    1.5394</td> <td>    0.585</td> <td>    2.630</td> <td> 0.009</td> <td>    0.392     2.687</td>\n",
       "</tr>\n",
       "<tr>\n",
       "  <th>day_week[T.3]:hour[T.21]</th>                    <td>    0.8020</td> <td>    0.580</td> <td>    1.383</td> <td> 0.167</td> <td>   -0.334     1.938</td>\n",
       "</tr>\n",
       "<tr>\n",
       "  <th>day_week[T.4]:hour[T.21]</th>                    <td>   -0.3381</td> <td>    0.582</td> <td>   -0.581</td> <td> 0.561</td> <td>   -1.479     0.803</td>\n",
       "</tr>\n",
       "<tr>\n",
       "  <th>day_week[T.5]:hour[T.21]</th>                    <td>   -1.1050</td> <td>    0.581</td> <td>   -1.900</td> <td> 0.057</td> <td>   -2.245     0.035</td>\n",
       "</tr>\n",
       "<tr>\n",
       "  <th>day_week[T.6]:hour[T.21]</th>                    <td>   -2.4991</td> <td>    0.581</td> <td>   -4.303</td> <td> 0.000</td> <td>   -3.638    -1.361</td>\n",
       "</tr>\n",
       "<tr>\n",
       "  <th>day_week[T.1]:hour[T.22]</th>                    <td>    1.6288</td> <td>    0.592</td> <td>    2.751</td> <td> 0.006</td> <td>    0.468     2.790</td>\n",
       "</tr>\n",
       "<tr>\n",
       "  <th>day_week[T.2]:hour[T.22]</th>                    <td>    1.5685</td> <td>    0.578</td> <td>    2.714</td> <td> 0.007</td> <td>    0.436     2.701</td>\n",
       "</tr>\n",
       "<tr>\n",
       "  <th>day_week[T.3]:hour[T.22]</th>                    <td>    0.9728</td> <td>    0.581</td> <td>    1.675</td> <td> 0.094</td> <td>   -0.165     2.111</td>\n",
       "</tr>\n",
       "<tr>\n",
       "  <th>day_week[T.4]:hour[T.22]</th>                    <td>    0.8104</td> <td>    0.582</td> <td>    1.392</td> <td> 0.164</td> <td>   -0.331     1.952</td>\n",
       "</tr>\n",
       "<tr>\n",
       "  <th>day_week[T.5]:hour[T.22]</th>                    <td>   -0.5847</td> <td>    0.584</td> <td>   -1.001</td> <td> 0.317</td> <td>   -1.729     0.560</td>\n",
       "</tr>\n",
       "<tr>\n",
       "  <th>day_week[T.6]:hour[T.22]</th>                    <td>   -2.3274</td> <td>    0.586</td> <td>   -3.972</td> <td> 0.000</td> <td>   -3.476    -1.179</td>\n",
       "</tr>\n",
       "<tr>\n",
       "  <th>day_week[T.1]:hour[T.23]</th>                    <td>    0.8991</td> <td>    0.595</td> <td>    1.511</td> <td> 0.131</td> <td>   -0.267     2.066</td>\n",
       "</tr>\n",
       "<tr>\n",
       "  <th>day_week[T.2]:hour[T.23]</th>                    <td>    1.6186</td> <td>    0.582</td> <td>    2.781</td> <td> 0.005</td> <td>    0.478     2.759</td>\n",
       "</tr>\n",
       "<tr>\n",
       "  <th>day_week[T.3]:hour[T.23]</th>                    <td>    1.3613</td> <td>    0.579</td> <td>    2.349</td> <td> 0.019</td> <td>    0.226     2.497</td>\n",
       "</tr>\n",
       "<tr>\n",
       "  <th>day_week[T.4]:hour[T.23]</th>                    <td>    1.9922</td> <td>    0.582</td> <td>    3.426</td> <td> 0.001</td> <td>    0.852     3.132</td>\n",
       "</tr>\n",
       "<tr>\n",
       "  <th>day_week[T.5]:hour[T.23]</th>                    <td>   -0.0342</td> <td>    0.593</td> <td>   -0.058</td> <td> 0.954</td> <td>   -1.196     1.128</td>\n",
       "</tr>\n",
       "<tr>\n",
       "  <th>day_week[T.6]:hour[T.23]</th>                    <td>   -2.1480</td> <td>    0.594</td> <td>   -3.619</td> <td> 0.000</td> <td>   -3.311    -0.985</td>\n",
       "</tr>\n",
       "<tr>\n",
       "  <th>temp</th>                                        <td>    0.0705</td> <td>    0.002</td> <td>   37.964</td> <td> 0.000</td> <td>    0.067     0.074</td>\n",
       "</tr>\n",
       "</table>\n",
       "<table class=\"simpletable\">\n",
       "<tr>\n",
       "  <th>Omnibus:</th>       <td>112.529</td> <th>  Durbin-Watson:     </th> <td>   0.235</td>\n",
       "</tr>\n",
       "<tr>\n",
       "  <th>Prob(Omnibus):</th> <td> 0.000</td>  <th>  Jarque-Bera (JB):  </th> <td> 153.354</td>\n",
       "</tr>\n",
       "<tr>\n",
       "  <th>Skew:</th>          <td> 0.085</td>  <th>  Prob(JB):          </th> <td>5.01e-34</td>\n",
       "</tr>\n",
       "<tr>\n",
       "  <th>Kurtosis:</th>      <td> 3.426</td>  <th>  Cond. No.          </th> <td>1.14e+04</td>\n",
       "</tr>\n",
       "</table>"
      ],
      "text/plain": [
       "<class 'statsmodels.iolib.summary.Summary'>\n",
       "\"\"\"\n",
       "                            OLS Regression Results                            \n",
       "==============================================================================\n",
       "Dep. Variable:             sqrt_trips   R-squared:                       0.680\n",
       "Model:                            OLS   Adj. R-squared:                  0.677\n",
       "Method:                 Least Squares   F-statistic:                     195.1\n",
       "Date:                Sat, 14 Nov 2015   Prob (F-statistic):               0.00\n",
       "Time:                        13:16:04   Log-Likelihood:                -43724.\n",
       "No. Observations:               17508   AIC:                         8.783e+04\n",
       "Df Residuals:                   17318   BIC:                         8.930e+04\n",
       "Df Model:                         189                                         \n",
       "Covariance Type:            nonrobust                                         \n",
       "===============================================================================================================\n",
       "                                                  coef    std err          t      P>|t|      [95.0% Conf. Int.]\n",
       "---------------------------------------------------------------------------------------------------------------\n",
       "Intercept                                       0.8432      0.313      2.694      0.007         0.230     1.457\n",
       "conditions[T.Drizzle]                          -5.3303      2.101     -2.537      0.011        -9.449    -1.212\n",
       "conditions[T.Fog]                               0.7646      0.234      3.268      0.001         0.306     1.223\n",
       "conditions[T.Haze]                             -0.5207      0.557     -0.935      0.350        -1.613     0.571\n",
       "conditions[T.Heavy Drizzle]                     1.3549      2.972      0.456      0.648        -4.470     7.180\n",
       "conditions[T.Heavy Rain]                       -4.7214      0.225    -20.972      0.000        -5.163    -4.280\n",
       "conditions[T.Heavy Thunderstorms and Rain]     -4.2303      0.461     -9.171      0.000        -5.135    -3.326\n",
       "conditions[T.Heavy Thunderstorms with Hail]    -7.0022      2.971     -2.357      0.018       -12.826    -1.178\n",
       "conditions[T.Light Drizzle]                    -1.9153      0.250     -7.676      0.000        -2.404    -1.426\n",
       "conditions[T.Light Rain]                       -3.0720      0.104    -29.654      0.000        -3.275    -2.869\n",
       "conditions[T.Light Snow]                       -1.9741      0.438     -4.502      0.000        -2.834    -1.115\n",
       "conditions[T.Light Thunderstorms and Rain]     -2.3713      0.416     -5.702      0.000        -3.186    -1.556\n",
       "conditions[T.Mist]                              0.1862      0.946      0.197      0.844        -1.667     2.040\n",
       "conditions[T.Mostly Cloudy]                     0.3556      0.087      4.082      0.000         0.185     0.526\n",
       "conditions[T.Overcast]                         -0.3616      0.084     -4.318      0.000        -0.526    -0.197\n",
       "conditions[T.Partly Cloudy]                     0.3013      0.093      3.229      0.001         0.118     0.484\n",
       "conditions[T.Patches of Fog]                   -0.4102      2.972     -0.138      0.890        -6.236     5.416\n",
       "conditions[T.Rain]                             -5.1699      0.173    -29.903      0.000        -5.509    -4.831\n",
       "conditions[T.Scattered Clouds]                  0.4043      0.091      4.468      0.000         0.227     0.582\n",
       "conditions[T.Thunderstorm]                     -2.0172      0.799     -2.524      0.012        -3.584    -0.450\n",
       "conditions[T.Thunderstorms and Rain]           -5.2645      0.705     -7.465      0.000        -6.647    -3.882\n",
       "conditions[T.Unknown]                          -3.1117      2.101     -1.481      0.139        -7.230     1.006\n",
       "day_week[T.1]                                  -0.8671      0.420     -2.064      0.039        -1.691    -0.043\n",
       "day_week[T.2]                                  -0.5855      0.409     -1.430      0.153        -1.388     0.217\n",
       "day_week[T.3]                                   0.0346      0.405      0.085      0.932        -0.759     0.828\n",
       "day_week[T.4]                                   0.2494      0.405      0.616      0.538        -0.544     1.043\n",
       "day_week[T.5]                                   1.5993      0.411      3.895      0.000         0.794     2.404\n",
       "day_week[T.6]                                   1.8177      0.413      4.406      0.000         1.009     2.626\n",
       "hour[T.1]                                      -1.4695      0.409     -3.589      0.000        -2.272    -0.667\n",
       "hour[T.2]                                      -2.1733      0.417     -5.215      0.000        -2.990    -1.356\n",
       "hour[T.3]                                      -2.7773      0.416     -6.681      0.000        -3.592    -1.962\n",
       "hour[T.4]                                      -2.7999      0.414     -6.769      0.000        -3.611    -1.989\n",
       "hour[T.5]                                      -1.2219      0.398     -3.070      0.002        -2.002    -0.442\n",
       "hour[T.6]                                       2.1862      0.411      5.325      0.000         1.381     2.991\n",
       "hour[T.7]                                       6.1058      0.402     15.179      0.000         5.317     6.894\n",
       "hour[T.8]                                       9.0105      0.398     22.631      0.000         8.230     9.791\n",
       "hour[T.9]                                       6.2251      0.399     15.602      0.000         5.443     7.007\n",
       "hour[T.10]                                      3.7988      0.404      9.413      0.000         3.008     4.590\n",
       "hour[T.11]                                      4.1927      0.409     10.251      0.000         3.391     4.994\n",
       "hour[T.12]                                      5.3912      0.410     13.146      0.000         4.587     6.195\n",
       "hour[T.13]                                      5.3796      0.419     12.850      0.000         4.559     6.200\n",
       "hour[T.14]                                      5.1635      0.425     12.160      0.000         4.331     5.996\n",
       "hour[T.15]                                      5.6993      0.416     13.688      0.000         4.883     6.515\n",
       "hour[T.16]                                      8.6177      0.417     20.644      0.000         7.799     9.436\n",
       "hour[T.17]                                     12.2185      0.408     29.917      0.000        11.418    13.019\n",
       "hour[T.18]                                      9.2313      0.420     21.996      0.000         8.409    10.054\n",
       "hour[T.19]                                      6.9654      0.414     16.833      0.000         6.154     7.777\n",
       "hour[T.20]                                      4.7714      0.415     11.508      0.000         3.959     5.584\n",
       "hour[T.21]                                      3.1083      0.413      7.535      0.000         2.300     3.917\n",
       "hour[T.22]                                      2.0140      0.413      4.871      0.000         1.204     2.824\n",
       "hour[T.23]                                      0.6638      0.417      1.593      0.111        -0.153     1.481\n",
       "day_week[T.1]:hour[T.1]                         0.5795      0.596      0.972      0.331        -0.590     1.748\n",
       "day_week[T.2]:hour[T.1]                         0.6815      0.574      1.187      0.235        -0.444     1.807\n",
       "day_week[T.3]:hour[T.1]                         0.0605      0.577      0.105      0.916        -1.070     1.191\n",
       "day_week[T.4]:hour[T.1]                         0.4246      0.573      0.741      0.459        -0.699     1.548\n",
       "day_week[T.5]:hour[T.1]                         1.6153      0.580      2.787      0.005         0.479     2.751\n",
       "day_week[T.6]:hour[T.1]                         2.0339      0.581      3.501      0.000         0.895     3.173\n",
       "day_week[T.1]:hour[T.2]                         0.3426      0.601      0.570      0.569        -0.836     1.521\n",
       "day_week[T.2]:hour[T.2]                         0.3922      0.590      0.665      0.506        -0.764     1.548\n",
       "day_week[T.3]:hour[T.2]                        -0.1214      0.585     -0.207      0.836        -1.268     1.025\n",
       "day_week[T.4]:hour[T.2]                         0.2823      0.580      0.487      0.627        -0.855     1.419\n",
       "day_week[T.5]:hour[T.2]                         1.6263      0.584      2.784      0.005         0.481     2.771\n",
       "day_week[T.6]:hour[T.2]                         2.5157      0.593      4.244      0.000         1.354     3.678\n",
       "day_week[T.1]:hour[T.3]                         0.4874      0.607      0.803      0.422        -0.703     1.678\n",
       "day_week[T.2]:hour[T.3]                         0.4901      0.589      0.831      0.406        -0.665     1.645\n",
       "day_week[T.3]:hour[T.3]                        -0.1926      0.600     -0.321      0.748        -1.370     0.984\n",
       "day_week[T.4]:hour[T.3]                        -0.0700      0.588     -0.119      0.905        -1.223     1.083\n",
       "day_week[T.5]:hour[T.3]                        -0.5371      0.586     -0.916      0.360        -1.686     0.612\n",
       "day_week[T.6]:hour[T.3]                        -0.7939      0.594     -1.337      0.181        -1.957     0.370\n",
       "day_week[T.1]:hour[T.4]                         1.0021      0.613      1.635      0.102        -0.199     2.203\n",
       "day_week[T.2]:hour[T.4]                         0.7417      0.592      1.253      0.210        -0.418     1.902\n",
       "day_week[T.3]:hour[T.4]                        -0.0820      0.592     -0.139      0.890        -1.241     1.078\n",
       "day_week[T.4]:hour[T.4]                        -0.0898      0.584     -0.154      0.878        -1.234     1.054\n",
       "day_week[T.5]:hour[T.4]                        -1.4324      0.589     -2.431      0.015        -2.587    -0.277\n",
       "day_week[T.6]:hour[T.4]                        -1.7282      0.593     -2.915      0.004        -2.890    -0.566\n",
       "day_week[T.1]:hour[T.5]                         1.3127      0.583      2.252      0.024         0.170     2.455\n",
       "day_week[T.2]:hour[T.5]                         1.0697      0.569      1.881      0.060        -0.045     2.184\n",
       "day_week[T.3]:hour[T.5]                         0.0881      0.570      0.155      0.877        -1.028     1.205\n",
       "day_week[T.4]:hour[T.5]                        -0.0665      0.572     -0.116      0.907        -1.187     1.054\n",
       "day_week[T.5]:hour[T.5]                        -2.9114      0.584     -4.989      0.000        -4.055    -1.768\n",
       "day_week[T.6]:hour[T.5]                        -3.1156      0.579     -5.382      0.000        -4.250    -1.981\n",
       "day_week[T.1]:hour[T.6]                         1.5699      0.583      2.691      0.007         0.427     2.713\n",
       "day_week[T.2]:hour[T.6]                         1.2709      0.568      2.237      0.025         0.157     2.385\n",
       "day_week[T.3]:hour[T.6]                         0.2046      0.570      0.359      0.720        -0.914     1.323\n",
       "day_week[T.4]:hour[T.6]                        -0.1234      0.573     -0.215      0.830        -1.247     1.001\n",
       "day_week[T.5]:hour[T.6]                        -5.4420      0.582     -9.355      0.000        -6.582    -4.302\n",
       "day_week[T.6]:hour[T.6]                        -5.8241      0.588     -9.912      0.000        -6.976    -4.672\n",
       "day_week[T.1]:hour[T.7]                         2.3073      0.576      4.004      0.000         1.178     3.437\n",
       "day_week[T.2]:hour[T.7]                         1.6042      0.568      2.825      0.005         0.491     2.717\n",
       "day_week[T.3]:hour[T.7]                         0.8122      0.568      1.430      0.153        -0.301     1.925\n",
       "day_week[T.4]:hour[T.7]                         0.2673      0.567      0.471      0.638        -0.845     1.380\n",
       "day_week[T.5]:hour[T.7]                        -7.8055      0.569    -13.726      0.000        -8.920    -6.691\n",
       "day_week[T.6]:hour[T.7]                        -8.3767      0.581    -14.421      0.000        -9.515    -7.238\n",
       "day_week[T.1]:hour[T.8]                         2.8056      0.578      4.856      0.000         1.673     3.938\n",
       "day_week[T.2]:hour[T.8]                         1.8920      0.562      3.369      0.001         0.791     2.993\n",
       "day_week[T.3]:hour[T.8]                         1.5979      0.565      2.828      0.005         0.490     2.705\n",
       "day_week[T.4]:hour[T.8]                         0.9417      0.565      1.668      0.095        -0.165     2.048\n",
       "day_week[T.5]:hour[T.8]                        -8.7377      0.566    -15.444      0.000        -9.847    -7.629\n",
       "day_week[T.6]:hour[T.8]                        -9.7699      0.570    -17.136      0.000       -10.887    -8.652\n",
       "day_week[T.1]:hour[T.9]                         1.2342      0.584      2.113      0.035         0.089     2.379\n",
       "day_week[T.2]:hour[T.9]                         0.7802      0.565      1.381      0.167        -0.327     1.887\n",
       "day_week[T.3]:hour[T.9]                         0.3190      0.564      0.565      0.572        -0.787     1.425\n",
       "day_week[T.4]:hour[T.9]                        -0.3832      0.567     -0.676      0.499        -1.495     0.728\n",
       "day_week[T.5]:hour[T.9]                        -4.5005      0.571     -7.878      0.000        -5.620    -3.381\n",
       "day_week[T.6]:hour[T.9]                        -4.9256      0.574     -8.578      0.000        -6.051    -3.800\n",
       "day_week[T.1]:hour[T.10]                        1.1544      0.583      1.981      0.048         0.012     2.297\n",
       "day_week[T.2]:hour[T.10]                        1.0217      0.569      1.795      0.073        -0.094     2.137\n",
       "day_week[T.3]:hour[T.10]                       -0.0483      0.571     -0.085      0.933        -1.168     1.071\n",
       "day_week[T.4]:hour[T.10]                        0.1447      0.575      0.252      0.801        -0.982     1.271\n",
       "day_week[T.5]:hour[T.10]                       -0.5683      0.578     -0.984      0.325        -1.700     0.564\n",
       "day_week[T.6]:hour[T.10]                       -0.9320      0.578     -1.613      0.107        -2.065     0.201\n",
       "day_week[T.1]:hour[T.11]                        0.9105      0.585      1.556      0.120        -0.236     2.057\n",
       "day_week[T.2]:hour[T.11]                        0.8761      0.577      1.519      0.129        -0.254     2.006\n",
       "day_week[T.3]:hour[T.11]                       -0.1016      0.572     -0.178      0.859        -1.222     1.019\n",
       "day_week[T.4]:hour[T.11]                        0.4429      0.578      0.767      0.443        -0.689     1.575\n",
       "day_week[T.5]:hour[T.11]                        0.6453      0.579      1.115      0.265        -0.489     1.780\n",
       "day_week[T.6]:hour[T.11]                        0.0769      0.581      0.132      0.895        -1.062     1.216\n",
       "day_week[T.1]:hour[T.12]                        0.9232      0.590      1.565      0.118        -0.233     2.080\n",
       "day_week[T.2]:hour[T.12]                        0.3519      0.582      0.605      0.545        -0.788     1.492\n",
       "day_week[T.3]:hour[T.12]                       -0.2483      0.573     -0.433      0.665        -1.371     0.875\n",
       "day_week[T.4]:hour[T.12]                        0.4978      0.572      0.870      0.384        -0.624     1.619\n",
       "day_week[T.5]:hour[T.12]                        0.6328      0.583      1.085      0.278        -0.510     1.776\n",
       "day_week[T.6]:hour[T.12]                       -0.2529      0.580     -0.436      0.663        -1.391     0.885\n",
       "day_week[T.1]:hour[T.13]                        0.5732      0.590      0.971      0.332        -0.584     1.731\n",
       "day_week[T.2]:hour[T.13]                        0.3696      0.588      0.628      0.530        -0.784     1.523\n",
       "day_week[T.3]:hour[T.13]                       -0.2589      0.575     -0.450      0.652        -1.386     0.868\n",
       "day_week[T.4]:hour[T.13]                        0.1648      0.585      0.282      0.778        -0.982     1.311\n",
       "day_week[T.5]:hour[T.13]                        0.9896      0.589      1.680      0.093        -0.165     2.144\n",
       "day_week[T.6]:hour[T.13]                        0.7056      0.589      1.199      0.231        -0.448     1.859\n",
       "day_week[T.1]:hour[T.14]                        0.5593      0.591      0.947      0.344        -0.598     1.717\n",
       "day_week[T.2]:hour[T.14]                       -0.1486      0.584     -0.254      0.799        -1.294     0.997\n",
       "day_week[T.3]:hour[T.14]                       -0.3547      0.585     -0.607      0.544        -1.501     0.791\n",
       "day_week[T.4]:hour[T.14]                        0.3604      0.586      0.615      0.538        -0.788     1.509\n",
       "day_week[T.5]:hour[T.14]                        1.3870      0.587      2.361      0.018         0.236     2.538\n",
       "day_week[T.6]:hour[T.14]                        1.3302      0.592      2.247      0.025         0.170     2.491\n",
       "day_week[T.1]:hour[T.15]                        0.3950      0.584      0.677      0.499        -0.749     1.539\n",
       "day_week[T.2]:hour[T.15]                        0.3419      0.579      0.590      0.555        -0.794     1.478\n",
       "day_week[T.3]:hour[T.15]                        0.1132      0.579      0.196      0.845        -1.021     1.247\n",
       "day_week[T.4]:hour[T.15]                        0.6876      0.579      1.187      0.235        -0.448     1.823\n",
       "day_week[T.5]:hour[T.15]                        1.0534      0.586      1.797      0.072        -0.096     2.203\n",
       "day_week[T.6]:hour[T.15]                       -0.2143      0.584     -0.367      0.714        -1.359     0.931\n",
       "day_week[T.1]:hour[T.16]                        0.5974      0.588      1.016      0.310        -0.556     1.750\n",
       "day_week[T.2]:hour[T.16]                       -0.1412      0.583     -0.242      0.809        -1.284     1.001\n",
       "day_week[T.3]:hour[T.16]                       -0.7161      0.583     -1.228      0.219        -1.859     0.427\n",
       "day_week[T.4]:hour[T.16]                        0.0608      0.580      0.105      0.917        -1.077     1.198\n",
       "day_week[T.5]:hour[T.16]                       -2.1166      0.588     -3.601      0.000        -3.269    -0.965\n",
       "day_week[T.6]:hour[T.16]                       -2.7186      0.586     -4.637      0.000        -3.868    -1.569\n",
       "day_week[T.1]:hour[T.17]                        0.7749      0.580      1.335      0.182        -0.363     1.912\n",
       "day_week[T.2]:hour[T.17]                       -0.7346      0.570     -1.290      0.197        -1.851     0.382\n",
       "day_week[T.3]:hour[T.17]                       -0.7755      0.578     -1.341      0.180        -1.909     0.358\n",
       "day_week[T.4]:hour[T.17]                       -2.0564      0.567     -3.625      0.000        -3.169    -0.944\n",
       "day_week[T.5]:hour[T.17]                       -6.0341      0.579    -10.417      0.000        -7.170    -4.899\n",
       "day_week[T.6]:hour[T.17]                       -7.1036      0.576    -12.334      0.000        -8.232    -5.975\n",
       "day_week[T.1]:hour[T.18]                        0.9026      0.586      1.540      0.124        -0.247     2.052\n",
       "day_week[T.2]:hour[T.18]                        1.0036      0.582      1.724      0.085        -0.137     2.144\n",
       "day_week[T.3]:hour[T.18]                       -0.5961      0.581     -1.027      0.305        -1.734     0.542\n",
       "day_week[T.4]:hour[T.18]                       -1.8404      0.580     -3.174      0.002        -2.977    -0.704\n",
       "day_week[T.5]:hour[T.18]                       -4.3262      0.587     -7.376      0.000        -5.476    -3.177\n",
       "day_week[T.6]:hour[T.18]                       -4.6229      0.586     -7.893      0.000        -5.771    -3.475\n",
       "day_week[T.1]:hour[T.19]                        0.6761      0.584      1.158      0.247        -0.469     1.821\n",
       "day_week[T.2]:hour[T.19]                        0.8100      0.584      1.387      0.165        -0.334     1.954\n",
       "day_week[T.3]:hour[T.19]                       -0.3182      0.578     -0.550      0.582        -1.452     0.816\n",
       "day_week[T.4]:hour[T.19]                       -1.5526      0.575     -2.699      0.007        -2.680    -0.425\n",
       "day_week[T.5]:hour[T.19]                       -3.1581      0.586     -5.388      0.000        -4.307    -2.009\n",
       "day_week[T.6]:hour[T.19]                       -3.8075      0.590     -6.455      0.000        -4.964    -2.651\n",
       "day_week[T.1]:hour[T.20]                        0.9824      0.591      1.663      0.096        -0.176     2.140\n",
       "day_week[T.2]:hour[T.20]                        1.5438      0.576      2.681      0.007         0.415     2.673\n",
       "day_week[T.3]:hour[T.20]                        0.1023      0.581      0.176      0.860        -1.036     1.240\n",
       "day_week[T.4]:hour[T.20]                       -1.0273      0.580     -1.771      0.076        -2.164     0.109\n",
       "day_week[T.5]:hour[T.20]                       -2.3071      0.583     -3.955      0.000        -3.450    -1.164\n",
       "day_week[T.6]:hour[T.20]                       -3.1598      0.591     -5.351      0.000        -4.317    -2.002\n",
       "day_week[T.1]:hour[T.21]                        1.2451      0.591      2.105      0.035         0.086     2.404\n",
       "day_week[T.2]:hour[T.21]                        1.5394      0.585      2.630      0.009         0.392     2.687\n",
       "day_week[T.3]:hour[T.21]                        0.8020      0.580      1.383      0.167        -0.334     1.938\n",
       "day_week[T.4]:hour[T.21]                       -0.3381      0.582     -0.581      0.561        -1.479     0.803\n",
       "day_week[T.5]:hour[T.21]                       -1.1050      0.581     -1.900      0.057        -2.245     0.035\n",
       "day_week[T.6]:hour[T.21]                       -2.4991      0.581     -4.303      0.000        -3.638    -1.361\n",
       "day_week[T.1]:hour[T.22]                        1.6288      0.592      2.751      0.006         0.468     2.790\n",
       "day_week[T.2]:hour[T.22]                        1.5685      0.578      2.714      0.007         0.436     2.701\n",
       "day_week[T.3]:hour[T.22]                        0.9728      0.581      1.675      0.094        -0.165     2.111\n",
       "day_week[T.4]:hour[T.22]                        0.8104      0.582      1.392      0.164        -0.331     1.952\n",
       "day_week[T.5]:hour[T.22]                       -0.5847      0.584     -1.001      0.317        -1.729     0.560\n",
       "day_week[T.6]:hour[T.22]                       -2.3274      0.586     -3.972      0.000        -3.476    -1.179\n",
       "day_week[T.1]:hour[T.23]                        0.8991      0.595      1.511      0.131        -0.267     2.066\n",
       "day_week[T.2]:hour[T.23]                        1.6186      0.582      2.781      0.005         0.478     2.759\n",
       "day_week[T.3]:hour[T.23]                        1.3613      0.579      2.349      0.019         0.226     2.497\n",
       "day_week[T.4]:hour[T.23]                        1.9922      0.582      3.426      0.001         0.852     3.132\n",
       "day_week[T.5]:hour[T.23]                       -0.0342      0.593     -0.058      0.954        -1.196     1.128\n",
       "day_week[T.6]:hour[T.23]                       -2.1480      0.594     -3.619      0.000        -3.311    -0.985\n",
       "temp                                            0.0705      0.002     37.964      0.000         0.067     0.074\n",
       "==============================================================================\n",
       "Omnibus:                      112.529   Durbin-Watson:                   0.235\n",
       "Prob(Omnibus):                  0.000   Jarque-Bera (JB):              153.354\n",
       "Skew:                           0.085   Prob(JB):                     5.01e-34\n",
       "Kurtosis:                       3.426   Cond. No.                     1.14e+04\n",
       "==============================================================================\n",
       "\n",
       "Warnings:\n",
       "[1] Standard Errors assume that the covariance matrix of the errors is correctly specified.\n",
       "[2] The condition number is large, 1.14e+04. This might indicate that there are\n",
       "strong multicollinearity or other numerical problems.\n",
       "\"\"\""
      ]
     },
     "execution_count": 38,
     "metadata": {},
     "output_type": "execute_result"
    }
   ],
   "source": [
    "results.summary()"
   ]
  },
  {
   "cell_type": "code",
   "execution_count": 43,
   "metadata": {
    "collapsed": false
   },
   "outputs": [
    {
     "data": {
      "text/plain": [
       "2.9561718478039167"
      ]
     },
     "execution_count": 43,
     "metadata": {},
     "output_type": "execute_result"
    }
   ],
   "source": [
    "np.sqrt(results.mse_resid)"
   ]
  },
  {
   "cell_type": "code",
   "execution_count": null,
   "metadata": {
    "collapsed": false
   },
   "outputs": [],
   "source": [
    "simple_ols = ols('sqrt_trips ~ conditions + wind_speed + humidity + temp ', merged_df)\n",
    "simple = simple_ols.fit(maxiter=100)\n",
    "simple.summary()"
   ]
  },
  {
   "cell_type": "code",
   "execution_count": null,
   "metadata": {
    "collapsed": false
   },
   "outputs": [],
   "source": [
    "merged_df.drop('events', axis=1, inplace=True)\n",
    "merged_df.head()"
   ]
  },
  {
   "cell_type": "markdown",
   "metadata": {},
   "source": [
    "### PCA"
   ]
  },
  {
   "cell_type": "code",
   "execution_count": null,
   "metadata": {
    "collapsed": false
   },
   "outputs": [],
   "source": [
    "from sklearn.decomposition import PCA\n",
    "pca = PCA(n_components = 6)\n",
    "pca_df = pca.fit_transform(merged_df[['temp', 'dew_pt', 'humidity', 'pressure', 'visibility', 'wind_speed', 'precipitation']])"
   ]
  },
  {
   "cell_type": "code",
   "execution_count": null,
   "metadata": {
    "collapsed": false
   },
   "outputs": [],
   "source": [
    "pca_df.shape"
   ]
  },
  {
   "cell_type": "code",
   "execution_count": null,
   "metadata": {
    "collapsed": false
   },
   "outputs": [],
   "source": [
    "temp = pd.DataFrame(pca_df, index=merged_df.index)\n",
    "import re\n",
    "hour_col = [ col for col in merged_dummy_df if re.search('^hour', col) ]\n",
    "pca_df2 = pd.concat([temp,  merged_dummy_df['sqrt_trips'], merged_dummy_df[hour_col]], axis=1)"
   ]
  },
  {
   "cell_type": "code",
   "execution_count": null,
   "metadata": {
    "collapsed": false
   },
   "outputs": [],
   "source": [
    "pca_df2.head(3)"
   ]
  },
  {
   "cell_type": "code",
   "execution_count": null,
   "metadata": {
    "collapsed": false
   },
   "outputs": [],
   "source": [
    "pca_col = pca_df2.columns[:6].union(pca_df2.columns[7:])\n",
    "#pca_df2['hour'] = pca_df2['hour'].astype(int)\n",
    "pca_lasso = OLS(pca_df2['sqrt_trips'].values, pca_df2[pca_col])"
   ]
  },
  {
   "cell_type": "code",
   "execution_count": null,
   "metadata": {
    "collapsed": false
   },
   "outputs": [],
   "source": [
    "pca_result = pca_lasso.fit_regularized(maxiter=100)"
   ]
  },
  {
   "cell_type": "code",
   "execution_count": null,
   "metadata": {
    "collapsed": false
   },
   "outputs": [],
   "source": [
    "pca_result.summary()"
   ]
  },
  {
   "cell_type": "code",
   "execution_count": null,
   "metadata": {
    "collapsed": true
   },
   "outputs": [],
   "source": []
  }
 ],
 "metadata": {
  "kernelspec": {
   "display_name": "Python 3",
   "language": "python",
   "name": "python3"
  },
  "language_info": {
   "codemirror_mode": {
    "name": "ipython",
    "version": 3
   },
   "file_extension": ".py",
   "mimetype": "text/x-python",
   "name": "python",
   "nbconvert_exporter": "python",
   "pygments_lexer": "ipython3",
   "version": "3.4.3"
  }
 },
 "nbformat": 4,
 "nbformat_minor": 0
}
